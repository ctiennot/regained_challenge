{
 "cells": [
  {
   "cell_type": "markdown",
   "metadata": {},
   "source": [
    "Trying to work with both faces and meta-data"
   ]
  },
  {
   "cell_type": "code",
   "execution_count": 1,
   "metadata": {
    "collapsed": false
   },
   "outputs": [],
   "source": [
    "import tensorflow as tf\n",
    "import time\n",
    "import matplotlib.pyplot as plt\n",
    "%matplotlib inline\n",
    "from IPython.display import clear_output\n",
    "\n",
    "from helpers.data_loading import *\n",
    "from helpers.CNN_layers import ConvLayer, DenseLayer\n",
    "from spearman import score_function"
   ]
  },
  {
   "cell_type": "markdown",
   "metadata": {},
   "source": [
    "We first load the extracted faces and the meta features"
   ]
  },
  {
   "cell_type": "code",
   "execution_count": 2,
   "metadata": {
    "collapsed": true
   },
   "outputs": [],
   "source": [
    "# faces, _ = load_faces(verbose=False)\n",
    "# faces_to_predict = faces[10000:13000]  # for final submission\n",
    "# faces = faces[0:10000]  # training and testing faces"
   ]
  },
  {
   "cell_type": "markdown",
   "metadata": {},
   "source": [
    "We then load the meta-features"
   ]
  },
  {
   "cell_type": "code",
   "execution_count": 3,
   "metadata": {
    "collapsed": true
   },
   "outputs": [],
   "source": [
    "meta, _ = load_meta_features(file=\"data/facial_features_train.csv\")\n",
    "meta_to_predict, _ = load_meta_features(file=\"data/facial_features_test.csv\")  # for final submission"
   ]
  },
  {
   "cell_type": "code",
   "execution_count": 4,
   "metadata": {
    "collapsed": false
   },
   "outputs": [],
   "source": [
    "# here we remove the features that are only available for the train\n",
    "to_keep = list(set(meta.columns).intersection(set(meta_to_predict.columns)))\n",
    "to_keep.sort()  # sort in alphabetical order to always have the same order"
   ]
  },
  {
   "cell_type": "code",
   "execution_count": 5,
   "metadata": {
    "collapsed": false
   },
   "outputs": [],
   "source": [
    "meta = meta[to_keep]\n",
    "meta_to_predict = meta_to_predict[to_keep]\n",
    "# now we remove non-numerical features\n",
    "numeric_features = np.array([type(value) is not str for value in meta.as_matrix()[0,:]])"
   ]
  },
  {
   "cell_type": "code",
   "execution_count": 6,
   "metadata": {
    "collapsed": false
   },
   "outputs": [],
   "source": [
    "meta = meta.as_matrix()[:,numeric_features]\n",
    "meta_to_predict = meta_to_predict.as_matrix()[:,numeric_features]"
   ]
  },
  {
   "cell_type": "code",
   "execution_count": 7,
   "metadata": {
    "collapsed": true
   },
   "outputs": [],
   "source": [
    "meta = np.array(meta, dtype=np.float32)\n",
    "meta_to_predict = np.array(meta_to_predict, dtype=np.float32)"
   ]
  },
  {
   "cell_type": "code",
   "execution_count": 8,
   "metadata": {
    "collapsed": true
   },
   "outputs": [],
   "source": [
    "y, _ = load_labels()  # scores between 0 and 25 for training instances\n",
    "y = y.reshape((-1,1))"
   ]
  },
  {
   "cell_type": "markdown",
   "metadata": {},
   "source": [
    "## Building a CNN with meta features connected at the dense layers"
   ]
  },
  {
   "cell_type": "markdown",
   "metadata": {},
   "source": [
    "We now would like to build a network that allows using both the faces and the meta-features. We thus using a CNN on the faces that ends with one or two dense layers and connect the meta-features at the dense layers level."
   ]
  },
  {
   "cell_type": "markdown",
   "metadata": {},
   "source": [
    "![Architecture](report/latex/img/network.svg)"
   ]
  },
  {
   "cell_type": "code",
   "execution_count": 67,
   "metadata": {
    "collapsed": true
   },
   "outputs": [],
   "source": [
    "tf.reset_default_graph()\n",
    "config = tf.ConfigProto()\n",
    "config.gpu_options.allow_growth = True\n",
    "config.log_device_placement=True\n",
    "sess = tf.InteractiveSession(config=config)"
   ]
  },
  {
   "cell_type": "code",
   "execution_count": 68,
   "metadata": {
    "collapsed": false
   },
   "outputs": [
    {
     "name": "stdout",
     "output_type": "stream",
     "text": [
      "Face pixels:\t10000\n",
      "Meta features:\t93\n"
     ]
    }
   ],
   "source": [
    "n_faces_pixels = 10**4\n",
    "n_meta = meta.shape[1]\n",
    "print \"Face pixels:\\t\", n_faces_pixels\n",
    "print \"Meta features:\\t\", n_meta"
   ]
  },
  {
   "cell_type": "markdown",
   "metadata": {},
   "source": [
    "We use the layer objects from **helpers.CNN_layers** to build our network."
   ]
  },
  {
   "cell_type": "code",
   "execution_count": 69,
   "metadata": {
    "collapsed": false
   },
   "outputs": [],
   "source": [
    "input_tf = tf.placeholder(tf.float32, shape=[None,100,100,3])\n",
    "y_tf = tf.placeholder(tf.float32, shape=[None, 1])\n",
    "\n",
    "conv1 = ConvLayer(input_tf, 32)\n",
    "conv1.max_pool()\n",
    "\n",
    "conv2 = ConvLayer(conv1.output, 32)\n",
    "conv2.max_pool()\n",
    "\n",
    "fc1 = DenseLayer(conv2.output, 1024)\n",
    "fc1.drop_out()\n",
    "\n",
    "meta_tf = tf.placeholder(tf.float32, shape=[None, n_meta])\n",
    "metaLayer = DenseLayer(meta_tf, 256)\n",
    "\n",
    "merging_matrix = tf.concat(1, [metaLayer.output, fc1.output])\n",
    "merge_layer = DenseLayer(merging_matrix, 100)\n",
    "\n",
    "fc2 = DenseLayer(merge_layer.output, 1)\n",
    "final_output = fc2.output"
   ]
  },
  {
   "cell_type": "markdown",
   "metadata": {},
   "source": [
    "The loss we use is the **Mean Square Error** (MSE) with a **L2-regularization** term"
   ]
  },
  {
   "cell_type": "code",
   "execution_count": 70,
   "metadata": {
    "collapsed": false
   },
   "outputs": [],
   "source": [
    "mse = (\n",
    "    tf.reduce_mean((final_output - y_tf)**2) + 0.01*(\n",
    "        tf.nn.l2_loss(conv1.W) +\n",
    "        tf.nn.l2_loss(conv2.W) +\n",
    "        tf.nn.l2_loss(fc1.W) +\n",
    "        tf.nn.l2_loss(fc2.W) + \n",
    "        tf.nn.l2_loss(metaLayer.W) + \n",
    "        tf.nn.l2_loss(merge_layer.W)\n",
    "    )\n",
    ")\n",
    "learning_rate = tf.placeholder(tf.float32, shape=[])\n",
    "train_step = tf.train.AdamOptimizer(learning_rate).minimize(mse)"
   ]
  },
  {
   "cell_type": "code",
   "execution_count": 71,
   "metadata": {
    "collapsed": false
   },
   "outputs": [],
   "source": [
    "sess.run(tf.global_variables_initializer())"
   ]
  },
  {
   "cell_type": "code",
   "execution_count": 72,
   "metadata": {
    "collapsed": false
   },
   "outputs": [
    {
     "data": {
      "text/plain": [
       "878.33051"
      ]
     },
     "execution_count": 72,
     "metadata": {},
     "output_type": "execute_result"
    }
   ],
   "source": [
    "mse.eval(feed_dict={input_tf:X_test, meta_tf:meta_test, fc1.keep_prob: 1.0, y_tf:y_test})"
   ]
  },
  {
   "cell_type": "markdown",
   "metadata": {},
   "source": [
    "It's easier to work with **generators** and to nest our code a bit using functions."
   ]
  },
  {
   "cell_type": "code",
   "execution_count": 73,
   "metadata": {
    "collapsed": false
   },
   "outputs": [
    {
     "name": "stdout",
     "output_type": "stream",
     "text": [
      "(300, 100, 100, 3)\n",
      "(300, 1)\n",
      "(300, 93)\n"
     ]
    }
   ],
   "source": [
    "# sample train/test indices\n",
    "train = np.arange(1, 9501)\n",
    "test = np.arange(9501, 10001)\n",
    "\n",
    "# generators for the batches\n",
    "def batch_generator(train_or_test, batch_size=50, black_white=True, random_flip=False):\n",
    "    nb_batch = len(train) // batch_size\n",
    "    while 1:\n",
    "        for i in range(nb_batch):\n",
    "            in_batch = train_or_test[i*batch_size:((i+1)*batch_size)]\n",
    "            X_batch, _ = faces_batch(in_batch, black_white=black_white)\n",
    "            meta_batch = meta[in_batch-1, :]  # WARNING meta is indexed from 0!!!\n",
    "            y_batch = y[in_batch-1]  # WARNING Y is indexed from 0!!!\n",
    "            y_batch = y_batch.astype(np.float32)\n",
    "            if random_flip and np.random.rand() > 0.5:\n",
    "                # with proba 0.5 we flip the face\n",
    "                X_batch = X_batch[:, :, ::-1, :]\n",
    "            yield X_batch/255., y_batch, meta_batch\n",
    "            \n",
    "# instatiate one generator for train and one for test\n",
    "train_gen = batch_generator(train, 100, black_white=False, random_flip=True)\n",
    "test_gen = batch_generator(test, 300, black_white=False)\n",
    "\n",
    "X_test, y_test, meta_test = next(test_gen)\n",
    "print X_test.shape\n",
    "print y_test.shape\n",
    "print meta_test.shape"
   ]
  },
  {
   "cell_type": "code",
   "execution_count": 74,
   "metadata": {
    "collapsed": false
   },
   "outputs": [],
   "source": [
    "# function to run one epoch\n",
    "def epoch(lr=1e-4):\n",
    "    X_train, y_train, meta_train = next(train_gen)\n",
    "    train_step.run(feed_dict={\n",
    "        input_tf: X_train, \n",
    "        meta_tf: meta_train,\n",
    "        y_tf: y_train,\n",
    "        fc1.keep_prob: 1.,\n",
    "        learning_rate: lr\n",
    "    })\n",
    "    train_mse = sess.run(mse, feed_dict={input_tf:X_train, y_tf: y_train, meta_tf:meta_train, fc1.keep_prob: 1.0})\n",
    "    \n",
    "    # preds on test\n",
    "    [preds, test_mse] = sess.run([final_output, mse], \n",
    "                                 feed_dict={input_tf: X_test, meta_tf: meta_test, fc1.keep_prob: 1.0, y_tf:y_test})\n",
    "    \n",
    "    current_spearman = score_function(y_pred=np.round(preds), y_true=y_test)\n",
    "    \n",
    "    return {\"train_mse\":train_mse, \"test_mse\":test_mse, \"test_spearman\":current_spearman, 'lr': lr}"
   ]
  },
  {
   "cell_type": "code",
   "execution_count": 75,
   "metadata": {
    "collapsed": true
   },
   "outputs": [],
   "source": [
    "# history of the loss through iterations\n",
    "learning_history = {'iterations':[], 'train_mse':[], 'test_mse':[], 'test_spearman':[], 'lr':[]}\n",
    "\n",
    "def update_history(learning_history, epoch):\n",
    "    learning_history['iterations'].append(len(learning_history['iterations']))\n",
    "    for name in ['train_mse', 'test_mse', 'test_spearman', 'lr']:\n",
    "        learning_history[name].append(epoch[name])"
   ]
  },
  {
   "cell_type": "code",
   "execution_count": 76,
   "metadata": {
    "collapsed": false
   },
   "outputs": [
    {
     "name": "stdout",
     "output_type": "stream",
     "text": [
      "i=999\n"
     ]
    },
    {
     "data": {
      "image/png": "[encoded data removed]",
      "text/plain": [
       "<matplotlib.figure.Figure at 0x7f7b28681650>"
      ]
     },
     "metadata": {},
     "output_type": "display_data"
    }
   ],
   "source": [
    "window = 1000  # plot only last x iterations\n",
    "refresh = 20  # refresh every x iterations\n",
    "for i in range(1000):\n",
    "    update_history(learning_history, epoch(lr=10**-4))\n",
    "    if (i+1) % refresh == 0:\n",
    "        clear_output()\n",
    "        print \"i=%i\"%i\n",
    "        f, axarr = plt.subplots(1, 2, figsize=(13, 3))\n",
    "        axarr[0].plot(learning_history['iterations'][:-window:-1][::-1], learning_history['train_mse'][:-window:-1][::-1], label=\"MSE (train)\")\n",
    "        axarr[0].plot(learning_history['iterations'][:-window:-1][::-1], learning_history['test_mse'][:-window:-1][::-1], label=\"MSE (test)\")\n",
    "        axarr[1].plot(learning_history['iterations'][:-window:-1][::-1], learning_history['test_spearman'][:-window:-1][::-1], label=\"Spearman (test)\")\n",
    "        axarr[0].legend()\n",
    "        axarr[1].set_title(\"Spearman on test set\")\n",
    "        axarr[1].grid()\n",
    "        plt.show()"
   ]
  },
  {
   "cell_type": "markdown",
   "metadata": {},
   "source": [
    "## Making a quick submission"
   ]
  },
  {
   "cell_type": "code",
   "execution_count": 86,
   "metadata": {
    "collapsed": false
   },
   "outputs": [],
   "source": [
    "X_to_predict, ids_to_predict = faces_batch(np.arange(10001, 13001), black_white=False)\n",
    "X_to_predict = X_to_predict/255.\n",
    "final_predictions = np.array([])\n",
    "for i in range(0, 30):\n",
    "    mini_batch = np.arange(i*100, (i+1)*100)\n",
    "    final_predictions = np.append(final_predictions, final_output.eval(feed_dict={\n",
    "        input_tf: X_to_predict[mini_batch], meta_tf: meta_to_predict[mini_batch], fc1.keep_prob: 1.0}).flatten()\n",
    "    )"
   ]
  },
  {
   "cell_type": "code",
   "execution_count": 89,
   "metadata": {
    "collapsed": false
   },
   "outputs": [],
   "source": [
    "export_submission(final_predictions, \"CNN_faces_meta\")  # 0.534 after submission"
   ]
  }
 ],
 "metadata": {
  "kernelspec": {
   "display_name": "Python 2",
   "language": "python",
   "name": "python2"
  },
  "language_info": {
   "codemirror_mode": {
    "name": "ipython",
    "version": 2
   },
   "file_extension": ".py",
   "mimetype": "text/x-python",
   "name": "python",
   "nbconvert_exporter": "python",
   "pygments_lexer": "ipython2",
   "version": "2.7.6"
  }
 },
 "nbformat": 4,
 "nbformat_minor": 2
}
