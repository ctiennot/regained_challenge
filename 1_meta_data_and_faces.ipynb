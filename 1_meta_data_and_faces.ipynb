{
 "cells": [
  {
   "cell_type": "markdown",
   "metadata": {},
   "source": [
    "Trying to work with both faces and meta-data"
   ]
  },
  {
   "cell_type": "code",
   "execution_count": 1,
   "metadata": {
    "collapsed": false
   },
   "outputs": [],
   "source": [
    "import tensorflow as tf\n",
    "import time\n",
    "%matplotlib inline\n",
    "\n",
    "from helpers.data_loading import *\n",
    "from helpers.CNN_layers import ConvLayer, DenseLayer\n",
    "from spearman import score_function"
   ]
  },
  {
   "cell_type": "markdown",
   "metadata": {},
   "source": [
    "We first load the extracted faces and the meta features"
   ]
  },
  {
   "cell_type": "code",
   "execution_count": 2,
   "metadata": {
    "collapsed": true
   },
   "outputs": [],
   "source": [
    "faces, _ = load_faces(verbose=False)\n",
    "faces_to_predict = faces[10000:13000]  # for final submission\n",
    "faces = faces[0:10000]"
   ]
  },
  {
   "cell_type": "code",
   "execution_count": 3,
   "metadata": {
    "collapsed": true
   },
   "outputs": [],
   "source": [
    "meta, _ = load_meta_features(file=\"data/facial_features_train.csv\")\n",
    "meta_to_predict, _ = load_meta_features(file=\"data/facial_features_test.csv\")  # for final submission"
   ]
  },
  {
   "cell_type": "code",
   "execution_count": 4,
   "metadata": {
    "collapsed": false
   },
   "outputs": [],
   "source": [
    "# here we remove the features that are only available for the train\n",
    "to_keep = list(set(meta.columns).intersection(set(meta_to_predict.columns)))\n",
    "to_keep.sort()  # sort in alphabetical order to always have the same order"
   ]
  },
  {
   "cell_type": "code",
   "execution_count": 5,
   "metadata": {
    "collapsed": false
   },
   "outputs": [],
   "source": [
    "meta = meta[to_keep]\n",
    "meta_to_predict = meta_to_predict[to_keep]\n",
    "# now we remove non-numerical features\n",
    "numeric_features = np.array([type(value) is not str for value in meta.as_matrix()[0,:]])"
   ]
  },
  {
   "cell_type": "code",
   "execution_count": 6,
   "metadata": {
    "collapsed": false
   },
   "outputs": [],
   "source": [
    "meta = meta.as_matrix()[:,numeric_features]\n",
    "meta_to_predict = meta_to_predict.as_matrix()[:,numeric_features]"
   ]
  },
  {
   "cell_type": "code",
   "execution_count": 7,
   "metadata": {
    "collapsed": true
   },
   "outputs": [],
   "source": [
    "meta = np.array(meta, dtype=np.float32)\n",
    "meta_to_predict = np.array(meta_to_predict, dtype=np.float32)"
   ]
  },
  {
   "cell_type": "code",
   "execution_count": 8,
   "metadata": {
    "collapsed": true
   },
   "outputs": [],
   "source": [
    "y, _ = load_labels()  # scores between 0 and 25 for training instances\n",
    "y = y.reshape((-1,1))"
   ]
  },
  {
   "cell_type": "markdown",
   "metadata": {},
   "source": [
    "## Building a CNN with meta features connected at the dense layers"
   ]
  },
  {
   "cell_type": "code",
   "execution_count": 9,
   "metadata": {
    "collapsed": true
   },
   "outputs": [],
   "source": [
    "tf.reset_default_graph()\n",
    "config = tf.ConfigProto()\n",
    "config.gpu_options.allow_growth = True\n",
    "config.log_device_placement=True\n",
    "sess = tf.InteractiveSession(config=config)"
   ]
  },
  {
   "cell_type": "code",
   "execution_count": 10,
   "metadata": {
    "collapsed": false
   },
   "outputs": [
    {
     "name": "stdout",
     "output_type": "stream",
     "text": [
      "Face pixels:\t10000\n",
      "Meta features:\t93\n"
     ]
    }
   ],
   "source": [
    "n_faces_pixels = 10**4\n",
    "n_meta = meta.shape[1]\n",
    "print \"Face pixels:\\t\", n_faces_pixels\n",
    "print \"Meta features:\\t\", n_meta"
   ]
  },
  {
   "cell_type": "code",
   "execution_count": 11,
   "metadata": {
    "collapsed": true
   },
   "outputs": [],
   "source": [
    "input_tf = tf.placeholder(tf.float32, shape=[None, n_faces_pixels])\n",
    "x_tf = tf.reshape(input_tf, [-1,100,100,1])\n",
    "y_tf = tf.placeholder(tf.float32, shape=[None, 1])"
   ]
  },
  {
   "cell_type": "code",
   "execution_count": 12,
   "metadata": {
    "collapsed": false
   },
   "outputs": [],
   "source": [
    "conv1 = ConvLayer(x_tf, 32)\n",
    "conv1.max_pool()"
   ]
  },
  {
   "cell_type": "code",
   "execution_count": 13,
   "metadata": {
    "collapsed": false
   },
   "outputs": [],
   "source": [
    "conv2 = ConvLayer(conv1.output, 32)\n",
    "conv2.max_pool()"
   ]
  },
  {
   "cell_type": "code",
   "execution_count": 14,
   "metadata": {
    "collapsed": false
   },
   "outputs": [],
   "source": [
    "fc1 = DenseLayer(conv2.output, 1024)\n",
    "fc1.drop_out()"
   ]
  },
  {
   "cell_type": "code",
   "execution_count": 15,
   "metadata": {
    "collapsed": false
   },
   "outputs": [
    {
     "data": {
      "text/plain": [
       "TensorShape([Dimension(None), Dimension(1024)])"
      ]
     },
     "execution_count": 15,
     "metadata": {},
     "output_type": "execute_result"
    }
   ],
   "source": [
    "fc1.output.get_shape()"
   ]
  },
  {
   "cell_type": "code",
   "execution_count": 16,
   "metadata": {
    "collapsed": true
   },
   "outputs": [],
   "source": [
    "meta_tf = tf.placeholder(tf.float32, shape=[None, n_meta])\n",
    "metaLayer = DenseLayer(meta_tf, 256)"
   ]
  },
  {
   "cell_type": "code",
   "execution_count": 17,
   "metadata": {
    "collapsed": true
   },
   "outputs": [],
   "source": [
    "merging_matrix = tf.concat(1, [metaLayer.output, fc1.output])\n",
    "merge_layer = DenseLayer(merging_matrix, 100)"
   ]
  },
  {
   "cell_type": "code",
   "execution_count": 18,
   "metadata": {
    "collapsed": false
   },
   "outputs": [],
   "source": [
    "fc2 = DenseLayer(merge_layer.output, 1)"
   ]
  },
  {
   "cell_type": "code",
   "execution_count": 19,
   "metadata": {
    "collapsed": true
   },
   "outputs": [],
   "source": [
    "mse = tf.reduce_mean((fc2.output - y_tf)**2)\n",
    "learning_rate = tf.placeholder(tf.float32, shape=[])\n",
    "train_step = tf.train.AdamOptimizer(learning_rate).minimize(mse)"
   ]
  },
  {
   "cell_type": "code",
   "execution_count": 20,
   "metadata": {
    "collapsed": true
   },
   "outputs": [],
   "source": [
    "sess.run(tf.global_variables_initializer())"
   ]
  },
  {
   "cell_type": "code",
   "execution_count": 21,
   "metadata": {
    "collapsed": false
   },
   "outputs": [
    {
     "data": {
      "text/plain": [
       "177.46024"
      ]
     },
     "execution_count": 21,
     "metadata": {},
     "output_type": "execute_result"
    }
   ],
   "source": [
    "mse.eval(feed_dict={\n",
    "    input_tf:faces[0:500,:], \n",
    "    y_tf: y[0:500,:], \n",
    "    fc1.keep_prob: 1.0,\n",
    "    meta_tf: meta[0:500,:]\n",
    "})"
   ]
  },
  {
   "cell_type": "code",
   "execution_count": 22,
   "metadata": {
    "collapsed": false
   },
   "outputs": [
    {
     "data": {
      "text/plain": [
       "numpy.float32"
      ]
     },
     "execution_count": 22,
     "metadata": {},
     "output_type": "execute_result"
    }
   ],
   "source": [
    "type(meta[0,0])"
   ]
  },
  {
   "cell_type": "code",
   "execution_count": 23,
   "metadata": {
    "collapsed": false
   },
   "outputs": [],
   "source": [
    "# sample train/test indices\n",
    "train = np.random.choice(range(0, 10**4), size = 9500, replace = False)\n",
    "test = np.setdiff1d(np.arange(0, 10**4), train)"
   ]
  },
  {
   "cell_type": "code",
   "execution_count": 24,
   "metadata": {
    "collapsed": false
   },
   "outputs": [],
   "source": [
    "def epoch(n_ep, lr=1e-4):\n",
    "    for i in range(95):\n",
    "        batch_i = train[np.arange(i*100, (i+1)*100)]\n",
    "        batch = (faces[batch_i,:], y[batch_i,:], meta[batch_i, :])\n",
    "        train_step.run(feed_dict={\n",
    "            input_tf: batch[0], \n",
    "            y_tf: batch[1], \n",
    "            meta_tf: batch[2], \n",
    "            fc1.keep_prob: 0.5,\n",
    "            learning_rate: lr\n",
    "        })\n",
    "    train_mse = sess.run(mse, feed_dict={input_tf:batch[0], y_tf: batch[1],  meta_tf: batch[2], fc1.keep_prob: 1.0})\n",
    "    print \"iteration %d, training mse %g\"%(n_ep, train_mse),\n",
    "    print \"test mse %g\"%mse.eval(feed_dict={\n",
    "        input_tf: faces[test,:], y_tf: y[test,:], meta_tf:meta[test, :], fc1.keep_prob: 1.0}),\n",
    "    \n",
    "    # compute spearman\n",
    "    preds = fc2.output.eval(feed_dict={\n",
    "        input_tf: faces[test,:], meta_tf:meta[test, :], fc1.keep_prob: 1.0})\n",
    "    current_spearman = score_function(y_pred=np.round(preds), y_true=y[test,:])\n",
    "    print \"test spearman %g\"%current_spearman"
   ]
  },
  {
   "cell_type": "code",
   "execution_count": 25,
   "metadata": {
    "collapsed": false
   },
   "outputs": [
    {
     "name": "stdout",
     "output_type": "stream",
     "text": [
      "iteration 0, training mse 16.9369 test mse 15.8295 test spearman 0.425988\n",
      "iteration 1, training mse 15.7123 test mse 15.3016 test spearman 0.436337\n",
      "iteration 2, training mse 15.7256 test mse 14.9614 test spearman 0.454195\n",
      "iteration 3, training mse 15.1778 test mse 14.4667 test spearman 0.487936\n",
      "iteration 4, training mse 14.9961 test mse 14.5242 test spearman 0.487189\n",
      "iteration 5, training mse 14.9742 test mse 14.1519 test spearman 0.496786\n",
      "iteration 6, training mse 14.6113 test mse 14.0821 test spearman 0.513367\n",
      "iteration 7, training mse 14.2737 test mse 13.9818 test spearman 0.512746\n",
      "iteration 8, training mse 13.7476 test mse 13.8149 test spearman 0.521635\n",
      "iteration 9, training mse 13.4918 test mse 13.8698 test spearman 0.525505\n",
      "iteration 10, training mse 13.0168 test mse 13.7541 test spearman 0.522929\n",
      "iteration 11, training mse 12.7566 test mse 13.6132 test spearman 0.516845\n",
      "iteration 12, training mse 12.4206 test mse 13.5505 test spearman 0.534069\n",
      "iteration 13, training mse 11.767 test mse 13.3693 test spearman 0.543733\n",
      "iteration 14, training mse 11.6587 test mse 13.407 test spearman 0.528873\n",
      "iteration 15, training mse 11.0027 test mse 13.4575 test spearman 0.534066\n",
      "iteration 16, training mse 10.6708 test mse 13.4842 test spearman 0.530285\n",
      "iteration 17, training mse 10.3488 test mse 13.3942 test spearman 0.537445\n",
      "iteration 18, training mse 9.79265 test mse 13.2713 test spearman 0.538523\n",
      "iteration 19, training mse 9.2546 test mse 13.3376 test spearman 0.549964\n",
      "iteration 20, training mse 8.74905 test mse 13.2401 test spearman 0.546387\n",
      "iteration 21, training mse 8.29066 test mse 13.511 test spearman 0.534861\n",
      "iteration 22, training mse 7.46975 test mse 13.2253 test spearman 0.549334\n",
      "iteration 23, training mse 6.77878 test mse 13.4784 test spearman 0.545365\n",
      "iteration 24, training mse 7.06574 test mse 13.9941 test spearman 0.552505\n",
      "iteration 25, training mse 6.72229 test mse 14.4209 test spearman 0.55002\n",
      "iteration 26, training mse 6.85936 test mse 15.1865 test spearman 0.552924\n",
      "iteration 27, training mse 5.83246 test mse 14.4808 test spearman 0.549427\n",
      "iteration 28, training mse 5.20999 test mse 14.2259 test spearman 0.553791\n",
      "iteration 29, training mse 4.89746 test mse 14.2679 test spearman 0.546831\n",
      "iteration 30, training mse 4.73732 test mse 14.3717 test spearman 0.539881\n",
      "iteration 31, training mse 3.90113 test mse 13.4951 test spearman 0.553839\n",
      "iteration 32, training mse 3.55515 test mse 13.3127 test spearman 0.55146\n",
      "iteration 33, training mse 3.88135 test mse 13.316 test spearman 0.544429\n",
      "iteration 34, training mse 3.74936 test mse 13.4999 test spearman 0.545755\n",
      "iteration 35, training mse 3.97041 test mse 13.8554 test spearman 0.546288\n",
      "iteration 36, training mse 4.25681 test mse 14.337 test spearman 0.564275\n",
      "iteration 37, training mse 3.33443 test mse 13.6249 test spearman 0.555298\n",
      "iteration 38, training mse 2.46105 test mse 13.045 test spearman 0.564336\n",
      "iteration 39, training mse 2.38542 test mse 12.9038 test spearman 0.558748\n",
      "iteration 40, training mse 2.19947 test mse 12.9385 test spearman 0.561475\n",
      "iteration 41, training mse 2.20302 test mse 13.0084 test spearman 0.555656\n",
      "iteration 42, training mse 2.31902 test mse 13.4072 test spearman 0.547092\n",
      "iteration 43, training mse 1.80693 test mse 13.1664 test spearman 0.554472\n",
      "iteration 44, training mse 1.82649 test mse 13.3569 test spearman 0.548824\n",
      "iteration 45, training mse 1.68117 test mse 13.0653 test spearman 0.549153\n",
      "iteration 46, training mse 1.89264 test mse 13.3533 test spearman 0.538695\n",
      "iteration 47, training mse 2.68625 test mse 14.7574 test spearman 0.541372\n",
      "iteration 48, training mse 4.50304 test mse 16.8181 test spearman 0.547487\n",
      "iteration 49, training mse 4.09651 test mse 16.45 test spearman 0.5487\n",
      "iteration 50, training mse 3.18644 test mse 15.9886 test spearman 0.527199\n",
      "iteration 51, training mse 1.9753 test mse 14.2529 test spearman 0.542895\n",
      "iteration 52, training mse 1.26538 test mse 13.6102 test spearman 0.545732\n",
      "iteration 53, training mse 1.14448 test mse 13.2335 test spearman 0.54926\n",
      "iteration 54, training mse 1.20953 test mse 13.1139 test spearman 0.548909\n",
      "iteration 55, training mse 1.13667 test mse 13.2164 test spearman 0.543106\n",
      "iteration 56, training mse 1.1273 test mse 13.2905 test spearman 0.546333\n",
      "iteration 57, training mse 1.27369 test mse 13.3474 test spearman 0.550516\n",
      "iteration 58, training mse 1.27073 test mse 13.2475 test spearman 0.561242\n",
      "iteration 59, training mse 1.23051 test mse 13.344 test spearman 0.559378\n",
      "iteration 60, training mse 1.37673 test mse 13.6092 test spearman 0.553159\n",
      "iteration 61, training mse 0.971462 test mse 13.1353 test spearman 0.553205\n",
      "iteration 62, training mse 1.1988 test mse 13.1722 test spearman 0.559949\n",
      "iteration 63, training mse 1.0732 test mse 12.7995 test spearman 0.555638\n",
      "iteration 64, training mse 0.884668 test mse 12.8753 test spearman 0.563278\n",
      "iteration 65, training mse 1.60774 test mse 13.2697 test spearman 0.568587\n",
      "iteration 66, training mse 1.9407 test mse 13.776 test spearman 0.566232\n",
      "iteration 67, training mse 1.85165 test mse 13.6709 test spearman 0.562274\n",
      "iteration 68, training mse 1.54566 test mse 13.7421 test spearman 0.566114\n",
      "iteration 69, training mse 1.0416 test mse 12.8862 test spearman 0.574546\n",
      "iteration 70, training mse 0.80134 test mse 12.7502 test spearman 0.565198\n",
      "iteration 71, training mse 0.819352 test mse 12.9223 test spearman 0.572049\n",
      "iteration 72, training mse 1.14137 test mse 13.2731 test spearman 0.560997\n",
      "iteration 73, training mse 1.59689 test mse 14.38 test spearman 0.557644\n",
      "iteration 74, training mse 1.99401 test mse 15.3667 test spearman 0.558439\n",
      "iteration 75, training mse 1.78528 test mse 15.5875 test spearman 0.559482\n",
      "iteration 76, training mse 1.48475 test mse 15.0339 test spearman 0.560351\n",
      "iteration 77, training mse 1.13791 test mse 14.4893 test spearman 0.550603\n",
      "iteration 78, training mse 1.13394 test mse 14.2756 test spearman 0.559161\n",
      "iteration 79, training mse 0.682875 test mse 13.5934 test spearman 0.55629\n",
      "iteration 80, training mse 0.604745 test mse 13.3023 test spearman 0.551243\n",
      "iteration 81, training mse 0.502906 test mse 13.2079 test spearman 0.552356\n",
      "iteration 82, training mse 0.677465 test mse 12.9941 test spearman 0.546547\n",
      "iteration 83, training mse 0.838926 test mse 13.1181 test spearman 0.555368\n",
      "iteration 84, training mse 0.981554 test mse 13.2734 test spearman 0.546012\n",
      "iteration 85, training mse 0.944418 test mse 13.5071 test spearman 0.551065\n",
      "iteration 86, training mse 0.916816 test mse 13.7048 test spearman 0.547076\n",
      "iteration 87, training mse 0.795518 test mse 13.7602 test spearman 0.545281\n",
      "iteration 88, training mse 1.14345 test mse 14.2774 test spearman 0.545247\n",
      "iteration 89, training mse 0.784296 test mse 13.9577 test spearman 0.549466\n",
      "iteration 90, training mse 0.861813 test mse 14.1086 test spearman 0.549001\n",
      "iteration 91, training mse 0.856597 test mse 14.1243 test spearman 0.553579\n",
      "iteration 92, training mse 0.569729 test mse 13.6543 test spearman 0.55546\n",
      "iteration 93, training mse 0.519243 test mse 13.6047 test spearman 0.55632\n",
      "iteration 94, training mse 0.437321 test mse 13.3661 test spearman 0.554324\n",
      "iteration 95, training mse 0.276241 test mse 12.9536 test spearman 0.554456\n",
      "iteration 96, training mse 0.360126 test mse 12.7809 test spearman 0.547639\n",
      "iteration 97, training mse 0.322908 test mse 12.6793 test spearman 0.564295\n",
      "iteration 98, training mse 0.406709 test mse 12.7804 test spearman 0.560924\n",
      "iteration 99, training mse 0.327271 test mse 12.8977 test spearman 0.556761\n",
      "\n",
      "Running time:  612.0 s\n"
     ]
    }
   ],
   "source": [
    "starts = time.time()\n",
    "for global_it in range(100):\n",
    "    epoch(global_it, 1e-4)\n",
    "print \"\\nRunning time: \", round(time.time() - starts), \"s\""
   ]
  },
  {
   "cell_type": "code",
   "execution_count": 26,
   "metadata": {
    "collapsed": false
   },
   "outputs": [
    {
     "name": "stdout",
     "output_type": "stream",
     "text": [
      "iteration 100, training mse 0.200715 test mse 12.8359 test spearman 0.556493\n",
      "iteration 101, training mse 0.195814 test mse 12.8378 test spearman 0.556708\n",
      "iteration 102, training mse 0.191344 test mse 12.8343 test spearman 0.557403\n",
      "iteration 103, training mse 0.185881 test mse 12.8168 test spearman 0.555992\n",
      "iteration 104, training mse 0.190675 test mse 12.82 test spearman 0.556603\n",
      "iteration 105, training mse 0.189832 test mse 12.8235 test spearman 0.556265\n",
      "iteration 106, training mse 0.18563 test mse 12.7816 test spearman 0.558634\n",
      "iteration 107, training mse 0.180877 test mse 12.7904 test spearman 0.554634\n",
      "iteration 108, training mse 0.17325 test mse 12.7813 test spearman 0.555937\n",
      "iteration 109, training mse 0.164084 test mse 12.7849 test spearman 0.553279\n",
      "iteration 110, training mse 0.172476 test mse 12.7643 test spearman 0.554236\n",
      "iteration 111, training mse 0.155743 test mse 12.7734 test spearman 0.556405\n",
      "iteration 112, training mse 0.146678 test mse 12.7729 test spearman 0.555293\n",
      "iteration 113, training mse 0.151806 test mse 12.767 test spearman 0.554615\n",
      "iteration 114, training mse 0.138689 test mse 12.8034 test spearman 0.553378\n",
      "iteration 115, training mse 0.139443 test mse 12.7703 test spearman 0.556413\n",
      "iteration 116, training mse 0.135787 test mse 12.7409 test spearman 0.556803\n",
      "iteration 117, training mse 0.152091 test mse 12.7467 test spearman 0.55432\n",
      "iteration 118, training mse 0.129182 test mse 12.7455 test spearman 0.556372\n",
      "iteration 119, training mse 0.132782 test mse 12.7253 test spearman 0.553719\n",
      "iteration 120, training mse 0.143492 test mse 12.7807 test spearman 0.553921\n",
      "iteration 121, training mse 0.137116 test mse 12.7141 test spearman 0.557549\n",
      "iteration 122, training mse 0.135704 test mse 12.7459 test spearman 0.553455\n",
      "iteration 123, training mse 0.118463 test mse 12.7151 test spearman 0.552639\n",
      "iteration 124, training mse 0.124472 test mse 12.71 test spearman 0.560744\n",
      "iteration 125, training mse 0.108327 test mse 12.7527 test spearman 0.555467\n",
      "iteration 126, training mse 0.116971 test mse 12.7259 test spearman 0.559302\n",
      "iteration 127, training mse 0.105332 test mse 12.7905 test spearman 0.559483\n",
      "iteration 128, training mse 0.115502 test mse 12.775 test spearman 0.559708\n",
      "iteration 129, training mse 0.107441 test mse 12.776 test spearman 0.554411\n",
      "iteration 130, training mse 0.0991405 test mse 12.7606 test spearman 0.559746\n",
      "iteration 131, training mse 0.111327 test mse 12.7595 test spearman 0.554504\n",
      "iteration 132, training mse 0.126988 test mse 12.7709 test spearman 0.558846\n",
      "iteration 133, training mse 0.106227 test mse 12.7648 test spearman 0.552011\n",
      "iteration 134, training mse 0.110269 test mse 12.7444 test spearman 0.559042\n",
      "iteration 135, training mse 0.0995039 test mse 12.7225 test spearman 0.555059\n",
      "iteration 136, training mse 0.104042 test mse 12.742 test spearman 0.556457\n",
      "iteration 137, training mse 0.126052 test mse 12.7424 test spearman 0.561241\n",
      "iteration 138, training mse 0.0931333 test mse 12.7347 test spearman 0.558886\n",
      "iteration 139, training mse 0.0955362 test mse 12.7144 test spearman 0.556837\n",
      "iteration 140, training mse 0.0927052 test mse 12.7457 test spearman 0.556204\n",
      "iteration 141, training mse 0.0938037 test mse 12.7067 test spearman 0.557586\n",
      "iteration 142, training mse 0.0876876 test mse 12.7359 test spearman 0.553905\n",
      "iteration 143, training mse 0.086636 test mse 12.704 test spearman 0.559141\n",
      "iteration 144, training mse 0.0847499 test mse 12.7099 test spearman 0.560032\n",
      "iteration 145, training mse 0.0930137 test mse 12.715 test spearman 0.558561\n",
      "iteration 146, training mse 0.0905942 test mse 12.6869 test spearman 0.560697\n",
      "iteration 147, training mse 0.0844161 test mse 12.6767 test spearman 0.556593\n",
      "iteration 148, training mse 0.0880363 test mse 12.7167 test spearman 0.562817\n",
      "iteration 149, training mse 0.0927142 test mse 12.725 test spearman 0.556908\n",
      "iteration 150, training mse 0.0809634 test mse 12.6792 test spearman 0.554742\n",
      "iteration 151, training mse 0.070106 test mse 12.7189 test spearman 0.562151\n",
      "iteration 152, training mse 0.0789384 test mse 12.7327 test spearman 0.554711\n",
      "iteration 153, training mse 0.0765085 test mse 12.7282 test spearman 0.554561\n",
      "iteration 154, training mse 0.0727449 test mse 12.7433 test spearman 0.553846\n",
      "iteration 155, training mse 0.0793277 test mse 12.7509 test spearman 0.553812\n",
      "iteration 156, training mse 0.069037 test mse 12.731 test spearman 0.556615\n",
      "iteration 157, training mse 0.0658588 test mse 12.7347 test spearman 0.555114\n",
      "iteration 158, training mse 0.0825763 test mse 12.7359 test spearman 0.549441\n",
      "iteration 159, training mse 0.073238 test mse 12.7621 test spearman 0.55484\n",
      "iteration 160, training mse 0.0622535 test mse 12.7254 test spearman 0.554522\n",
      "iteration 161, training mse 0.071691 test mse 12.6887 test spearman 0.556766\n",
      "iteration 162, training mse 0.0782844 test mse 12.6841 test spearman 0.558491\n",
      "iteration 163, training mse 0.0733928 test mse 12.6992 test spearman 0.559372\n",
      "iteration 164, training mse 0.0714229 test mse 12.7011 test spearman 0.561049\n",
      "iteration 165, training mse 0.0770409 test mse 12.7332 test spearman 0.561614\n",
      "iteration 166, training mse 0.0595184 test mse 12.702 test spearman 0.557209\n",
      "iteration 167, training mse 0.0662316 test mse 12.7191 test spearman 0.558714\n",
      "iteration 168, training mse 0.0725481 test mse 12.6583 test spearman 0.554996\n",
      "iteration 169, training mse 0.0564282 test mse 12.7006 test spearman 0.56023\n",
      "iteration 170, training mse 0.0590253 test mse 12.7106 test spearman 0.557624\n",
      "iteration 171, training mse 0.0637131 test mse 12.7211 test spearman 0.555878\n",
      "iteration 172, training mse 0.0692797 test mse 12.7254 test spearman 0.558561\n",
      "iteration 173, training mse 0.0612547 test mse 12.7152 test spearman 0.553494\n",
      "iteration 174, training mse 0.0649526 test mse 12.6677 test spearman 0.553313\n",
      "iteration 175, training mse 0.0581654 test mse 12.641 test spearman 0.563127\n",
      "iteration 176, training mse 0.0603396 test mse 12.6513 test spearman 0.560439\n",
      "iteration 177, training mse 0.0613494 test mse 12.6868 test spearman 0.55704\n",
      "iteration 178, training mse 0.0564817 test mse 12.6917 test spearman 0.555742\n",
      "iteration 179, training mse 0.0574624 test mse 12.6598 test spearman 0.558869\n",
      "iteration 180, training mse 0.0642555 test mse 12.6801 test spearman 0.55906\n",
      "iteration 181, training mse 0.0471604 test mse 12.6599 test spearman 0.558397\n",
      "iteration 182, training mse 0.0647935 test mse 12.6535 test spearman 0.562097\n",
      "iteration 183, training mse 0.049763 test mse 12.6545 test spearman 0.556492\n",
      "iteration 184, training mse 0.0631737 test mse 12.6775 test spearman 0.561644\n",
      "iteration 185, training mse 0.0525778 test mse 12.6705 test spearman 0.562795\n",
      "iteration 186, training mse 0.0577957 test mse 12.6327 test spearman 0.559626\n",
      "iteration 187, training mse 0.0572307 test mse 12.6408 test spearman 0.560307\n",
      "iteration 188, training mse 0.0679962 test mse 12.6775 test spearman 0.553126\n",
      "iteration 189, training mse 0.0500768 test mse 12.6932 test spearman 0.559811\n",
      "iteration 190, training mse 0.0546377 test mse 12.6833 test spearman 0.558246\n",
      "iteration 191, training mse 0.0563302 test mse 12.6623 test spearman 0.556819\n",
      "iteration 192, training mse 0.0564895 test mse 12.6908 test spearman 0.559652\n",
      "iteration 193, training mse 0.0515906 test mse 12.6724 test spearman 0.559196\n",
      "iteration 194, training mse 0.0634899 test mse 12.6803 test spearman 0.56685\n",
      "iteration 195, training mse 0.0566141 test mse 12.6601 test spearman 0.562617\n",
      "iteration 196, training mse 0.055941 test mse 12.658 test spearman 0.559184\n",
      "iteration 197, training mse 0.0582698 test mse 12.6647 test spearman 0.559812\n",
      "iteration 198, training mse 0.0523011 test mse 12.7129 test spearman 0.558318\n",
      "iteration 199, training mse 0.0619694 test mse 12.6749 test spearman 0.5573\n",
      "\n",
      "Running time:  616.0 s\n"
     ]
    }
   ],
   "source": [
    "starts = time.time()\n",
    "for global_it in range(100, 200):\n",
    "    epoch(global_it, 1e-5)  # decrease learning rate a bit\n",
    "print \"\\nRunning time: \", round(time.time() - starts), \"s\""
   ]
  },
  {
   "cell_type": "code",
   "execution_count": 27,
   "metadata": {
    "collapsed": false
   },
   "outputs": [
    {
     "name": "stdout",
     "output_type": "stream",
     "text": [
      "iteration 200, training mse 0.0537303 test mse 12.6724 test spearman 0.557457\n",
      "iteration 201, training mse 0.0530784 test mse 12.6678 test spearman 0.558875\n",
      "iteration 202, training mse 0.0518901 test mse 12.6667 test spearman 0.558143\n",
      "iteration 203, training mse 0.050341 test mse 12.6687 test spearman 0.559618\n",
      "iteration 204, training mse 0.0515366 test mse 12.6726 test spearman 0.560352\n",
      "iteration 205, training mse 0.0525801 test mse 12.6738 test spearman 0.560927\n",
      "iteration 206, training mse 0.0514248 test mse 12.673 test spearman 0.560102\n",
      "iteration 207, training mse 0.0517993 test mse 12.6751 test spearman 0.558817\n",
      "iteration 208, training mse 0.0511616 test mse 12.6732 test spearman 0.558796\n",
      "iteration 209, training mse 0.0525301 test mse 12.6765 test spearman 0.559467\n",
      "iteration 210, training mse 0.0480139 test mse 12.6761 test spearman 0.561685\n",
      "iteration 211, training mse 0.0483598 test mse 12.6762 test spearman 0.560396\n",
      "iteration 212, training mse 0.0497271 test mse 12.6717 test spearman 0.562812\n",
      "iteration 213, training mse 0.0485348 test mse 12.6708 test spearman 0.560053\n",
      "iteration 214, training mse 0.0470201 test mse 12.6663 test spearman 0.561608\n",
      "iteration 215, training mse 0.046201 test mse 12.6704 test spearman 0.559237\n",
      "iteration 216, training mse 0.0459806 test mse 12.6701 test spearman 0.557963\n",
      "iteration 217, training mse 0.0457794 test mse 12.6727 test spearman 0.557151\n",
      "iteration 218, training mse 0.0471957 test mse 12.6679 test spearman 0.560044\n",
      "iteration 219, training mse 0.0459309 test mse 12.6637 test spearman 0.557774\n",
      "iteration 220, training mse 0.0458148 test mse 12.6677 test spearman 0.55997\n",
      "iteration 221, training mse 0.0428793 test mse 12.6733 test spearman 0.559635\n",
      "iteration 222, training mse 0.0429504 test mse 12.677 test spearman 0.55819\n",
      "iteration 223, training mse 0.0451358 test mse 12.6832 test spearman 0.558279\n",
      "iteration 224, training mse 0.0453562 test mse 12.6779 test spearman 0.559717\n",
      "iteration 225, training mse 0.0465465 test mse 12.6738 test spearman 0.557574\n",
      "iteration 226, training mse 0.0460474 test mse 12.6749 test spearman 0.557925\n",
      "iteration 227, training mse 0.045818 test mse 12.6737 test spearman 0.557665\n",
      "iteration 228, training mse 0.0443961 test mse 12.6801 test spearman 0.557536\n",
      "iteration 229, training mse 0.0414796 test mse 12.681 test spearman 0.556578\n",
      "iteration 230, training mse 0.0412307 test mse 12.679 test spearman 0.558673\n",
      "iteration 231, training mse 0.0426323 test mse 12.6749 test spearman 0.558296\n",
      "iteration 232, training mse 0.0418494 test mse 12.6724 test spearman 0.559784\n",
      "iteration 233, training mse 0.043619 test mse 12.668 test spearman 0.55986\n",
      "iteration 234, training mse 0.0444677 test mse 12.6739 test spearman 0.559293\n",
      "iteration 235, training mse 0.0434237 test mse 12.6775 test spearman 0.558941\n",
      "iteration 236, training mse 0.043826 test mse 12.6751 test spearman 0.555911\n",
      "iteration 237, training mse 0.044927 test mse 12.6722 test spearman 0.557127\n",
      "iteration 238, training mse 0.0453214 test mse 12.6732 test spearman 0.558331\n",
      "iteration 239, training mse 0.0430252 test mse 12.6748 test spearman 0.557094\n",
      "iteration 240, training mse 0.0442524 test mse 12.669 test spearman 0.557378\n",
      "iteration 241, training mse 0.043886 test mse 12.6652 test spearman 0.560578\n",
      "iteration 242, training mse 0.0421933 test mse 12.6618 test spearman 0.55694\n",
      "iteration 243, training mse 0.0436924 test mse 12.6596 test spearman 0.55916\n",
      "iteration 244, training mse 0.0432382 test mse 12.6559 test spearman 0.559684\n",
      "iteration 245, training mse 0.0428747 test mse 12.658 test spearman 0.560294\n",
      "iteration 246, training mse 0.0412354 test mse 12.6575 test spearman 0.559309\n",
      "iteration 247, training mse 0.0424704 test mse 12.6615 test spearman 0.558433\n",
      "iteration 248, training mse 0.0411822 test mse 12.6665 test spearman 0.559706\n",
      "iteration 249, training mse 0.0416977 test mse 12.6649 test spearman 0.557739\n",
      "iteration 250, training mse 0.0410175 test mse 12.6587 test spearman 0.559782\n",
      "iteration 251, training mse 0.0389378 test mse 12.6645 test spearman 0.559135\n",
      "iteration 252, training mse 0.0412175 test mse 12.6711 test spearman 0.558076\n",
      "iteration 253, training mse 0.042181 test mse 12.6681 test spearman 0.559743\n",
      "iteration 254, training mse 0.0399653 test mse 12.6714 test spearman 0.559448\n",
      "iteration 255, training mse 0.0423127 test mse 12.6773 test spearman 0.560489\n",
      "iteration 256, training mse 0.0413914 test mse 12.673 test spearman 0.559133\n",
      "iteration 257, training mse 0.043826 test mse 12.6671 test spearman 0.558899\n",
      "iteration 258, training mse 0.0422042 test mse 12.6721 test spearman 0.557367\n",
      "iteration 259, training mse 0.0450899 test mse 12.6726 test spearman 0.560956\n",
      "iteration 260, training mse 0.0438341 test mse 12.6738 test spearman 0.562109\n",
      "iteration 261, training mse 0.0428445 test mse 12.6671 test spearman 0.558754\n",
      "iteration 262, training mse 0.0427822 test mse 12.6685 test spearman 0.560645\n",
      "iteration 263, training mse 0.0416781 test mse 12.6617 test spearman 0.560496\n",
      "iteration 264, training mse 0.0438361 test mse 12.6655 test spearman 0.559615\n",
      "iteration 265, training mse 0.0443592 test mse 12.664 test spearman 0.559278\n",
      "iteration 266, training mse 0.0426946 test mse 12.6616 test spearman 0.558379\n",
      "iteration 267, training mse 0.041004 test mse 12.6589 test spearman 0.560475\n",
      "iteration 268, training mse 0.0391373 test mse 12.6561 test spearman 0.560405\n",
      "iteration 269, training mse 0.0391589 test mse 12.6572 test spearman 0.559859\n",
      "iteration 270, training mse 0.0414849 test mse 12.6559 test spearman 0.558117\n",
      "iteration 271, training mse 0.0393358 test mse 12.6534 test spearman 0.560046\n",
      "iteration 272, training mse 0.0416627 test mse 12.6538 test spearman 0.559152\n",
      "iteration 273, training mse 0.0387302 test mse 12.6614 test spearman 0.559556\n",
      "iteration 274, training mse 0.0407044 test mse 12.6601 test spearman 0.55996\n",
      "iteration 275, training mse 0.0410961 test mse 12.6622 test spearman 0.558627\n",
      "iteration 276, training mse 0.0419116 test mse 12.6586 test spearman 0.556757\n",
      "iteration 277, training mse 0.0390365 test mse 12.6615 test spearman 0.557863\n",
      "iteration 278, training mse 0.0383493 test mse 12.6654 test spearman 0.557685\n",
      "iteration 279, training mse 0.0393408 test mse 12.6686 test spearman 0.560225\n",
      "iteration 280, training mse 0.038463 test mse 12.6654 test spearman 0.558285\n",
      "iteration 281, training mse 0.040499 test mse 12.6694 test spearman 0.556584\n",
      "iteration 282, training mse 0.0408414 test mse 12.6645 test spearman 0.557103\n",
      "iteration 283, training mse 0.0398263 test mse 12.6618 test spearman 0.558376\n",
      "iteration 284, training mse 0.0394137 test mse 12.6645 test spearman 0.556988\n",
      "iteration 285, training mse 0.0404723 test mse 12.6605 test spearman 0.556607\n",
      "iteration 286, training mse 0.0408211 test mse 12.6556 test spearman 0.559338\n",
      "iteration 287, training mse 0.0422512 test mse 12.6581 test spearman 0.558377\n",
      "iteration 288, training mse 0.0428411 test mse 12.6608 test spearman 0.557849\n",
      "iteration 289, training mse 0.0430371 test mse 12.6627 test spearman 0.559875\n",
      "iteration 290, training mse 0.0397309 test mse 12.6704 test spearman 0.559152\n",
      "iteration 291, training mse 0.0396934 test mse 12.6674 test spearman 0.558719\n",
      "iteration 292, training mse 0.0392563 test mse 12.6674 test spearman 0.559566\n",
      "iteration 293, training mse 0.0390173 test mse 12.664 test spearman 0.558645\n",
      "iteration 294, training mse 0.0388307 test mse 12.6637 test spearman 0.558323\n",
      "iteration 295, training mse 0.0403597 test mse 12.6613 test spearman 0.557626\n",
      "iteration 296, training mse 0.0418316 test mse 12.6624 test spearman 0.558506\n",
      "iteration 297, training mse 0.0411117 test mse 12.6678 test spearman 0.559157\n",
      "iteration 298, training mse 0.0408552 test mse 12.6627 test spearman 0.556058\n",
      "iteration 299, training mse 0.0386944 test mse 12.6578 test spearman 0.558923\n"
     ]
    }
   ],
   "source": [
    "for global_it in range(200, 300):\n",
    "    epoch(global_it, 1e-6)  # decrease learning rate a bit"
   ]
  },
  {
   "cell_type": "markdown",
   "metadata": {},
   "source": [
    "## Making a quick submission"
   ]
  },
  {
   "cell_type": "code",
   "execution_count": 162,
   "metadata": {
    "collapsed": false
   },
   "outputs": [],
   "source": [
    "preds = []\n",
    "for i in range(faces_to_predict.shape[0]):\n",
    "    preds.append(\n",
    "        fc2.output.eval(feed_dict={\n",
    "            input_tf: faces_to_predict[i:(i+1),:], meta_tf:meta_to_predict[i:(i+1),:], fc1.keep_prob: 1.0})[0]\n",
    "    )"
   ]
  },
  {
   "cell_type": "code",
   "execution_count": 167,
   "metadata": {
    "collapsed": false
   },
   "outputs": [],
   "source": [
    "export_submission(preds, \"CNN_faces_meta\")"
   ]
  },
  {
   "cell_type": "code",
   "execution_count": null,
   "metadata": {
    "collapsed": true
   },
   "outputs": [],
   "source": []
  }
 ],
 "metadata": {
  "kernelspec": {
   "display_name": "Python 2",
   "language": "python",
   "name": "python2"
  },
  "language_info": {
   "codemirror_mode": {
    "name": "ipython",
    "version": 2
   },
   "file_extension": ".py",
   "mimetype": "text/x-python",
   "name": "python",
   "nbconvert_exporter": "python",
   "pygments_lexer": "ipython2",
   "version": "2.7.6"
  }
 },
 "nbformat": 4,
 "nbformat_minor": 2
}
