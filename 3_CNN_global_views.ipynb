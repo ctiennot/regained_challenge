{
 "cells": [
  {
   "cell_type": "markdown",
   "metadata": {},
   "source": [
    "A CNN on the global views 500x500"
   ]
  },
  {
   "cell_type": "code",
   "execution_count": 1,
   "metadata": {
    "collapsed": true
   },
   "outputs": [],
   "source": [
    "import tensorflow as tf\n",
    "import time\n",
    "import matplotlib.pyplot as plt\n",
    "%matplotlib inline\n",
    "\n",
    "from helpers.data_loading import *\n",
    "from helpers.CNN_layers import ConvLayer, DenseLayer\n",
    "from spearman import score_function"
   ]
  },
  {
   "cell_type": "code",
   "execution_count": 2,
   "metadata": {
    "collapsed": false
   },
   "outputs": [],
   "source": [
    "y, _ = load_labels()  # scores between 0 and 25 for training instances\n",
    "y = y.reshape((-1,1))"
   ]
  },
  {
   "cell_type": "code",
   "execution_count": 75,
   "metadata": {
    "collapsed": false
   },
   "outputs": [],
   "source": [
    "tf.reset_default_graph()\n",
    "config = tf.ConfigProto()\n",
    "config.gpu_options.allow_growth = True\n",
    "config.log_device_placement=True\n",
    "sess = tf.InteractiveSession(config=config)\n",
    "\n",
    "input_tf = tf.placeholder(tf.float32, shape=[None, 500, 500, 1])\n",
    "y_tf = tf.placeholder(tf.float32, shape=[None, 1])\n",
    "\n",
    "conv1 = ConvLayer(input_tf, 8)\n",
    "conv1.max_pool()\n",
    "\n",
    "conv2 = ConvLayer(conv1.output, 16)\n",
    "conv2.max_pool()\n",
    "\n",
    "conv3 = ConvLayer(conv2.output, 32)\n",
    "conv3.max_pool()\n",
    "\n",
    "fc1 = DenseLayer(conv3.output, 256)\n",
    "fc1.drop_out()\n",
    "\n",
    "fc2 = DenseLayer(fc1.output, 1)\n",
    "\n",
    "final_output = 24. * (1 / (1 + tf.exp(- fc2.output)))  # logit to normalize"
   ]
  },
  {
   "cell_type": "code",
   "execution_count": 77,
   "metadata": {
    "collapsed": true
   },
   "outputs": [],
   "source": [
    "mse = tf.reduce_mean((final_output - y_tf)**2)\n",
    "learning_rate = tf.placeholder(tf.float32, shape=[])\n",
    "train_step = tf.train.AdamOptimizer(learning_rate).minimize(mse)"
   ]
  },
  {
   "cell_type": "code",
   "execution_count": 78,
   "metadata": {
    "collapsed": false
   },
   "outputs": [],
   "source": [
    "sess.run(tf.global_variables_initializer())"
   ]
  },
  {
   "cell_type": "code",
   "execution_count": 79,
   "metadata": {
    "collapsed": false
   },
   "outputs": [
    {
     "data": {
      "text/plain": [
       "120.84"
      ]
     },
     "execution_count": 79,
     "metadata": {},
     "output_type": "execute_result"
    }
   ],
   "source": [
    "mse.eval(feed_dict={\n",
    "    input_tf: global_views_batch(np.arange(1, 51))[0].reshape((-1, 500, 500, 1)), \n",
    "    y_tf: y[0:50,:], \n",
    "    fc1.keep_prob: 1.0\n",
    "})"
   ]
  },
  {
   "cell_type": "code",
   "execution_count": 41,
   "metadata": {
    "collapsed": false
   },
   "outputs": [
    {
     "data": {
      "text/plain": [
       "numpy.float32"
      ]
     },
     "execution_count": 41,
     "metadata": {},
     "output_type": "execute_result"
    }
   ],
   "source": [
    "type(global_views_batch(np.arange(1, 11))[0][0,0,0])"
   ]
  },
  {
   "cell_type": "code",
   "execution_count": 42,
   "metadata": {
    "collapsed": false
   },
   "outputs": [],
   "source": [
    "# WARNING indices for y and when calling global_views_batch differ from 1\n",
    "# we create a quick batch generator for the training and the testing\n",
    "\n",
    "# sample train/test indices # WARNING indexed from 1!!!\n",
    "train = np.random.choice(range(1, 10**4), size = 9500, replace = False)\n",
    "test = np.setdiff1d(np.arange(1, 10**4), train)\n",
    "\n",
    "def train_batch(batch_size=50):\n",
    "    nb_batch = len(train) // batch_size\n",
    "    while 1:\n",
    "        for i in range(nb_batch):\n",
    "            in_batch = train[i*batch_size:((i+1)*batch_size)]\n",
    "            X_batch, _ = global_views_batch(in_batch)\n",
    "            y_batch = y[in_batch-1]  # WARNING Y is indexed from 0!!!\n",
    "            y_batch = y_batch.astype(np.float32)\n",
    "            yield X_batch, y_batch\n",
    "            \n",
    "def test_batch(batch_size=50):\n",
    "    nb_batch = len(test) // batch_size\n",
    "    while 1:\n",
    "        for i in range(nb_batch):\n",
    "            in_batch = test[i*batch_size:((i+1)*batch_size)]\n",
    "            X_batch, _ = global_views_batch(in_batch)\n",
    "            y_batch = y[in_batch-1]  # WARNING Y is indexed from 0!!!\n",
    "            y_batch = y_batch.astype(np.float32)\n",
    "            yield X_batch, y_batch"
   ]
  },
  {
   "cell_type": "code",
   "execution_count": 69,
   "metadata": {
    "collapsed": false
   },
   "outputs": [],
   "source": [
    "train_gen = train_batch(10)\n",
    "test_gen = test_batch(10)"
   ]
  },
  {
   "cell_type": "code",
   "execution_count": 70,
   "metadata": {
    "collapsed": false
   },
   "outputs": [
    {
     "name": "stdout",
     "output_type": "stream",
     "text": [
      "(10, 500, 500, 1)\n",
      "(10, 1)\n"
     ]
    }
   ],
   "source": [
    "X_test, y_test = next(test_gen)\n",
    "X_test = X_test.reshape((-1, 500, 500, 1))\n",
    "print X_test.shape\n",
    "print y_test.shape"
   ]
  },
  {
   "cell_type": "code",
   "execution_count": 71,
   "metadata": {
    "collapsed": false
   },
   "outputs": [],
   "source": [
    "def epoch(n_ep, lr=1e-4):\n",
    "    X_train, y_train = next(train_gen)\n",
    "    X_train = X_train.reshape((-1, 500, 500, 1))\n",
    "    X_test, y_test = next(test_gen)\n",
    "    X_test = X_test.reshape((-1, 500, 500, 1))\n",
    "    train_step.run(feed_dict={\n",
    "        input_tf: X_train, \n",
    "        y_tf: y_train,\n",
    "        fc1.keep_prob: 0.5,\n",
    "        learning_rate: lr\n",
    "    })\n",
    "    train_mse = sess.run(mse, feed_dict={input_tf:X_train, y_tf: y_train, fc1.keep_prob: 1.0})\n",
    "    print \"iteration %d, training mse %g\"%(n_ep, train_mse)\n",
    "    \n",
    "    # preds on test\n",
    "    preds = final_output.eval(feed_dict={input_tf: X_test, fc1.keep_prob: 1.0})\n",
    "    print preds.flatten()\n",
    "    print \"test mse %g\"%np.mean((preds - y_test)**2)\n",
    "    current_spearman = score_function(y_pred=np.round(preds), y_true=y_test)\n",
    "    print \"test spearman %g\"%current_spearman"
   ]
  },
  {
   "cell_type": "code",
   "execution_count": 83,
   "metadata": {
    "collapsed": false
   },
   "outputs": [
    {
     "name": "stdout",
     "output_type": "stream",
     "text": [
      "iteration 1, training mse 116.1\n",
      "[ 24.  24.  12.  24.  24.  24.  24.  24.  12.  24.]\n",
      "test mse 99\n",
      "test spearman 0.371391\n",
      "iteration 1, training mse 59.2\n",
      "[ 24.  24.  24.  24.  24.  24.  24.  12.  24.  12.]\n",
      "test mse 95.7\n",
      "test spearman 0\n",
      "iteration 1, training mse 83.6983\n",
      "[ 24.  12.  12.  24.  24.  12.  24.  24.  12.  12.]\n",
      "test mse 71.1\n",
      "test spearman 0.490399\n",
      "iteration 1, training mse 173.2\n",
      "[ 24.  24.  24.  24.  12.  12.  24.  24.  24.  24.]\n",
      "test mse 161\n",
      "test spearman -0.576328\n",
      "iteration 1, training mse 98.5\n",
      "[ 12.  24.  24.  24.  24.  24.  24.  24.  24.  12.]\n",
      "test mse 83.1\n",
      "test spearman -0.0909843\n",
      "iteration 1, training mse 111.591\n",
      "[ 24.  24.  12.  12.  12.  12.  24.  12.  24.  24.]\n",
      "test mse 75.6\n",
      "test spearman -0.175682\n",
      "iteration 1, training mse 13.2\n",
      "[ 12.  12.  12.  12.  12.  12.  12.  12.  12.  12.]\n",
      "test mse 26.1\n",
      "test spearman nan\n",
      "iteration 1, training mse 25.7\n",
      "[ 12.  12.  12.  12.  12.  12.  12.  12.  12.  12.]\n",
      "test mse 31.4\n",
      "test spearman nan\n",
      "iteration 1, training mse 32.3\n",
      "[ 12.  12.  12.  12.  12.  12.  12.  12.  12.  12.]\n",
      "test mse 26.6\n",
      "test spearman nan\n",
      "iteration 1, training mse 11.4\n",
      "[ 12.  12.  12.  12.  12.  12.  12.  12.  12.  12.]\n",
      "test mse 34.6\n",
      "test spearman nan\n",
      "iteration 1, training mse 19.3\n",
      "[ 12.  12.  12.  12.  12.  12.  12.  12.  12.  12.]\n",
      "test mse 13.4\n",
      "test spearman nan\n",
      "iteration 1, training mse 17.8\n",
      "[ 12.  12.  12.  12.  12.  12.  12.  12.  12.  12.]\n",
      "test mse 19.4\n",
      "test spearman nan\n",
      "iteration 1, training mse 15.9\n",
      "[ 12.  12.  12.  12.  12.  12.  12.  12.  12.  12.]\n",
      "test mse 14.9\n",
      "test spearman nan\n",
      "iteration 1, training mse 19.4\n",
      "[ 12.  12.  12.  12.  12.  12.  12.  12.  12.  12.]\n",
      "test mse 32.5\n",
      "test spearman nan\n",
      "iteration 1, training mse 28.1\n",
      "[ 12.  12.  12.  12.  12.  12.  12.  12.  12.  12.]\n",
      "test mse 10.1\n",
      "test spearman nan\n",
      "iteration 1, training mse 10.9\n",
      "[ 12.  12.  12.  12.  12.  12.  12.  12.  12.  12.]\n",
      "test mse 25.7\n",
      "test spearman nan\n",
      "iteration 1, training mse 13.3\n",
      "[ 12.  12.  12.  12.  12.  12.  12.  12.  12.  12.]\n",
      "test mse 24\n",
      "test spearman nan\n",
      "iteration 1, training mse 16\n",
      "[ 12.  12.  12.  12.  12.  12.  12.  12.  12.  12.]\n",
      "test mse 30.3\n",
      "test spearman nan\n",
      "iteration 1, training mse 27.5\n",
      "[ 12.  12.  12.  12.  12.  12.  12.  12.  12.  12.]\n",
      "test mse 17.5\n",
      "test spearman nan\n",
      "iteration 1, training mse 12.7\n",
      "[ 12.  12.  12.  12.  12.  12.  12.  12.  12.  12.]\n",
      "test mse 20.7\n",
      "test spearman nan\n"
     ]
    }
   ],
   "source": [
    "for i in range(20):\n",
    "    epoch(1, lr=10**-2)"
   ]
  },
  {
   "cell_type": "code",
   "execution_count": 80,
   "metadata": {
    "collapsed": false
   },
   "outputs": [
    {
     "data": {
      "text/plain": [
       "array([ 12.,  12.,  12.,  24.,  24.,  12.,  24.,  12.,  24.,  24.], dtype=float32)"
      ]
     },
     "execution_count": 80,
     "metadata": {},
     "output_type": "execute_result"
    }
   ],
   "source": [
    "final_output.eval(feed_dict={input_tf: X_test.reshape((-1, 500, 500, 1)), fc1.keep_prob: 1.}).flatten()"
   ]
  },
  {
   "cell_type": "code",
   "execution_count": null,
   "metadata": {
    "collapsed": true
   },
   "outputs": [],
   "source": []
  }
 ],
 "metadata": {
  "kernelspec": {
   "display_name": "Python 2",
   "language": "python",
   "name": "python2"
  },
  "language_info": {
   "codemirror_mode": {
    "name": "ipython",
    "version": 2
   },
   "file_extension": ".py",
   "mimetype": "text/x-python",
   "name": "python",
   "nbconvert_exporter": "python",
   "pygments_lexer": "ipython2",
   "version": "2.7.6"
  }
 },
 "nbformat": 4,
 "nbformat_minor": 2
}
