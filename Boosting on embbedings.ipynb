{
 "cells": [
  {
   "cell_type": "code",
   "execution_count": 1,
   "metadata": {
    "collapsed": false
   },
   "outputs": [],
   "source": [
    "import numpy as np\n",
    "from helpers.data_loading import *"
   ]
  },
  {
   "cell_type": "code",
   "execution_count": 2,
   "metadata": {
    "collapsed": true
   },
   "outputs": [],
   "source": [
    "embeddings = np.load(\"data/embeddings/CNN_faces_1k.npy\")"
   ]
  },
  {
   "cell_type": "code",
   "execution_count": 3,
   "metadata": {
    "collapsed": false
   },
   "outputs": [],
   "source": [
    "y, _ = load_labels()"
   ]
  },
  {
   "cell_type": "code",
   "execution_count": 4,
   "metadata": {
    "collapsed": false
   },
   "outputs": [
    {
     "data": {
      "text/plain": [
       "(10000,)"
      ]
     },
     "execution_count": 4,
     "metadata": {},
     "output_type": "execute_result"
    }
   ],
   "source": [
    "y.shape"
   ]
  },
  {
   "cell_type": "code",
   "execution_count": 5,
   "metadata": {
    "collapsed": true
   },
   "outputs": [],
   "source": [
    "meta, _ = load_meta_features(only_num=True)\n",
    "meta_to_predict, _ = load_meta_features('data/facial_features_test.csv', only_num=True)\n",
    "to_keep = list(set(meta.columns).intersection(set(meta_to_predict.columns)))\n",
    "to_keep.sort()  # sort in alphabetical order to always have the same order\n",
    "meta_train = meta[to_keep][0:9500]\n",
    "meta_test = meta[to_keep][9500:10000]"
   ]
  },
  {
   "cell_type": "code",
   "execution_count": 6,
   "metadata": {
    "collapsed": false
   },
   "outputs": [],
   "source": [
    "embeddings_train = embeddings[0:9500, :]\n",
    "embeddings_test = embeddings[9500:10000, :]\n",
    "embeddings_to_predict = embeddings[10000:13000, :]\n",
    "y_train = y[0:9500]\n",
    "y_test = y[9500:10000]"
   ]
  },
  {
   "cell_type": "code",
   "execution_count": 7,
   "metadata": {
    "collapsed": true
   },
   "outputs": [],
   "source": [
    "from sklearn.ensemble import RandomForestRegressor"
   ]
  },
  {
   "cell_type": "code",
   "execution_count": 8,
   "metadata": {
    "collapsed": false
   },
   "outputs": [],
   "source": [
    "clf = RandomForestRegressor(n_estimators=10)\n",
    "from sklearn.ensemble import GradientBoostingRegressor\n",
    "clf = GradientBoostingRegressor(n_estimators=200)"
   ]
  },
  {
   "cell_type": "code",
   "execution_count": 20,
   "metadata": {
    "collapsed": false
   },
   "outputs": [],
   "source": [
    "X_train = np.hstack((embeddings_train, meta_train))\n",
    "X_test = np.hstack((embeddings_test, meta_test))\n",
    "X_to_predict = np.hstack((embeddings_to_predict, meta_to_predict))"
   ]
  },
  {
   "cell_type": "code",
   "execution_count": 10,
   "metadata": {
    "collapsed": false
   },
   "outputs": [
    {
     "data": {
      "text/plain": [
       "GradientBoostingRegressor(alpha=0.9, init=None, learning_rate=0.1, loss='ls',\n",
       "             max_depth=3, max_features=None, max_leaf_nodes=None,\n",
       "             min_samples_leaf=1, min_samples_split=2,\n",
       "             min_weight_fraction_leaf=0.0, n_estimators=200,\n",
       "             presort='auto', random_state=None, subsample=1.0, verbose=0,\n",
       "             warm_start=False)"
      ]
     },
     "execution_count": 10,
     "metadata": {},
     "output_type": "execute_result"
    }
   ],
   "source": [
    "clf.fit(X_train, y_train)"
   ]
  },
  {
   "cell_type": "code",
   "execution_count": 11,
   "metadata": {
    "collapsed": false
   },
   "outputs": [],
   "source": [
    "preds = clf.predict(X_test)"
   ]
  },
  {
   "cell_type": "code",
   "execution_count": 12,
   "metadata": {
    "collapsed": true
   },
   "outputs": [],
   "source": [
    "import matplotlib.pyplot as plt\n",
    "%matplotlib inline"
   ]
  },
  {
   "cell_type": "code",
   "execution_count": 13,
   "metadata": {
    "collapsed": false
   },
   "outputs": [
    {
     "data": {
      "text/plain": [
       "[<matplotlib.lines.Line2D at 0x7f0c6c2624d0>]"
      ]
     },
     "execution_count": 13,
     "metadata": {},
     "output_type": "execute_result"
    },
    {
     "data": {
      "image/png": "[encoded data removed]",
      "text/plain": [
       "<matplotlib.figure.Figure at 0x7f0c6e62f110>"
      ]
     },
     "metadata": {},
     "output_type": "display_data"
    }
   ],
   "source": [
    "plt.plot(preds, y_test, 'o')"
   ]
  },
  {
   "cell_type": "code",
   "execution_count": 14,
   "metadata": {
    "collapsed": true
   },
   "outputs": [],
   "source": [
    "from spearman import score_function"
   ]
  },
  {
   "cell_type": "code",
   "execution_count": 19,
   "metadata": {
    "collapsed": false
   },
   "outputs": [
    {
     "data": {
      "text/plain": [
       "0.68024250763566674"
      ]
     },
     "execution_count": 19,
     "metadata": {},
     "output_type": "execute_result"
    }
   ],
   "source": [
    "score_function(y_test, np.round(preds))"
   ]
  },
  {
   "cell_type": "code",
   "execution_count": 16,
   "metadata": {
    "collapsed": false
   },
   "outputs": [
    {
     "data": {
      "text/plain": [
       "(10000, 105)"
      ]
     },
     "execution_count": 16,
     "metadata": {},
     "output_type": "execute_result"
    }
   ],
   "source": [
    "meta.shape"
   ]
  },
  {
   "cell_type": "code",
   "execution_count": 17,
   "metadata": {
    "collapsed": false
   },
   "outputs": [
    {
     "data": {
      "text/plain": [
       "(500, 93)"
      ]
     },
     "execution_count": 17,
     "metadata": {},
     "output_type": "execute_result"
    }
   ],
   "source": [
    "meta_test.shape"
   ]
  },
  {
   "cell_type": "code",
   "execution_count": 18,
   "metadata": {
    "collapsed": true
   },
   "outputs": [],
   "source": [
    "# prediction"
   ]
  },
  {
   "cell_type": "code",
   "execution_count": 21,
   "metadata": {
    "collapsed": false
   },
   "outputs": [
    {
     "data": {
      "text/plain": [
       "array([ 15.88975375,  14.54508649,   8.94793992, ...,  16.46917766,\n",
       "         5.99417952,   8.73870499])"
      ]
     },
     "execution_count": 21,
     "metadata": {},
     "output_type": "execute_result"
    }
   ],
   "source": []
  },
  {
   "cell_type": "code",
   "execution_count": 22,
   "metadata": {
    "collapsed": true
   },
   "outputs": [],
   "source": [
    "export_submission(clf.predict(X_to_predict), \"boosting_on_embeddings\")"
   ]
  },
  {
   "cell_type": "code",
   "execution_count": 24,
   "metadata": {
    "collapsed": false
   },
   "outputs": [
    {
     "data": {
      "text/plain": [
       "[<matplotlib.lines.Line2D at 0x7f0c75710250>]"
      ]
     },
     "execution_count": 24,
     "metadata": {},
     "output_type": "execute_result"
    },
    {
     "data": {
      "image/png": "[encoded data removed]",
      "text/plain": [
       "<matplotlib.figure.Figure at 0x7f0c6c295290>"
      ]
     },
     "metadata": {},
     "output_type": "display_data"
    }
   ],
   "source": [
    "plt.plot(clf.feature_importances_)"
   ]
  },
  {
   "cell_type": "code",
   "execution_count": 27,
   "metadata": {
    "collapsed": false
   },
   "outputs": [
    {
     "data": {
      "text/plain": [
       "Index([u'y0', u'x0', u'width', u'upper_lip_y', u'upper_lip_x', u'surprise',\n",
       "       u'smile', u'sadness', u'roll angle', u'right_of_right_eyebrow_y',\n",
       "       u'right_of_right_eyebrow_x', u'right_of_left_eyebrow_y',\n",
       "       u'right_of_left_eyebrow_x', u'right_eyebrow_upper_midpoint_y',\n",
       "       u'right_eyebrow_upper_midpoint_x', u'right_eye_y', u'right_eye_x',\n",
       "       u'right_eye_top_boundary_y', u'right_eye_top_boundary_x',\n",
       "       u'right_eye_right_corner_y', u'right_eye_right_corner_x',\n",
       "       u'right_eye_pupil_y', u'right_eye_pupil_x', u'right_eye_left_corner_y',\n",
       "       u'right_eye_left_corner_x', u'right_eye_bottom_boundary_y',\n",
       "       u'right_eye_bottom_boundary_x', u'right_eye', u'right_ear_tragion_y',\n",
       "       u'right_ear_tragion_x', u'pan angle', u'other', u'nose_tip_y',\n",
       "       u'nose_tip_x', u'nose_bottom_right_y', u'nose_bottom_right_x',\n",
       "       u'nose_bottom_left_y', u'nose_bottom_left_x', u'nose_bottom_center_y',\n",
       "       u'nose_bottom_center_x', u'neutral', u'mouth_right_y', u'mouth_right_x',\n",
       "       u'mouth_left_y', u'mouth_left_x', u'mouth_center_y', u'mouth_center_x',\n",
       "       u'midpoint_between_eyes_y', u'midpoint_between_eyes_x', u'lower_lip_y',\n",
       "       u'lower_lip_x', u'left_of_right_eyebrow_y', u'left_of_right_eyebrow_x',\n",
       "       u'left_of_left_eyebrow_y', u'left_of_left_eyebrow_x',\n",
       "       u'left_eyebrow_upper_midpoint_y', u'left_eyebrow_upper_midpoint_x',\n",
       "       u'left_eye_y', u'left_eye_x', u'left_eye_top_boundary_y',\n",
       "       u'left_eye_top_boundary_x', u'left_eye_right_corner_y',\n",
       "       u'left_eye_right_corner_x', u'left_eye_pupil_y', u'left_eye_pupil_x',\n",
       "       u'left_eye_left_corner_y', u'left_eye_left_corner_x',\n",
       "       u'left_eye_bottom_boundary_y', u'left_eye_bottom_boundary_x',\n",
       "       u'left_eye', u'left_ear_tragion_y', u'left_ear_tragion_x', u'laugh',\n",
       "       u'landmarks confidence', u'height', u'hard_to_tell', u'grimace',\n",
       "       u'gender', u'forehead_glabella_y', u'forehead_glabella_x', u'fear',\n",
       "       u'detection score', u'confidence_right_eye', u'confidence_left_eye',\n",
       "       u'confidence_gender', u'chin_right_gonion_y', u'chin_right_gonion_x',\n",
       "       u'chin_left_gonion_y', u'chin_left_gonion_x', u'chin_gnathion_y',\n",
       "       u'chin_gnathion_x', u'anger', u'age'],\n",
       "      dtype='object')"
      ]
     },
     "execution_count": 27,
     "metadata": {},
     "output_type": "execute_result"
    }
   ],
   "source": [
    "meta_train.columns[::-1]"
   ]
  },
  {
   "cell_type": "code",
   "execution_count": 45,
   "metadata": {
    "collapsed": false
   },
   "outputs": [
    {
     "data": {
      "text/plain": [
       "<matplotlib.image.AxesImage at 0x7f0c6acb4b90>"
      ]
     },
     "execution_count": 45,
     "metadata": {},
     "output_type": "execute_result"
    },
    {
     "data": {
      "image/png": "[encoded data removed]",
      "text/plain": [
       "<matplotlib.figure.Figure at 0x7f0c6ad6a2d0>"
      ]
     },
     "metadata": {},
     "output_type": "display_data"
    }
   ],
   "source": [
    "img = np.eye(100)\n",
    "plt.imshow(img)"
   ]
  },
  {
   "cell_type": "code",
   "execution_count": 48,
   "metadata": {
    "collapsed": false
   },
   "outputs": [
    {
     "data": {
      "text/plain": [
       "<matplotlib.image.AxesImage at 0x7f0c6ab8e7d0>"
      ]
     },
     "execution_count": 48,
     "metadata": {},
     "output_type": "execute_result"
    },
    {
     "data": {
      "image/png": "[encoded data removed]",
      "text/plain": [
       "<matplotlib.figure.Figure at 0x7f0c6ac82810>"
      ]
     },
     "metadata": {},
     "output_type": "display_data"
    }
   ],
   "source": [
    "plt.imshow(img[:, ::-1])"
   ]
  },
  {
   "cell_type": "code",
   "execution_count": 50,
   "metadata": {
    "collapsed": false
   },
   "outputs": [],
   "source": [
    "angle = 40  # degree\n",
    "rotated = np.zeros((60, 60))"
   ]
  },
  {
   "cell_type": "code",
   "execution_count": 51,
   "metadata": {
    "collapsed": false
   },
   "outputs": [
    {
     "data": {
      "text/plain": [
       "Index([u'age', u'anger', u'angle_impact_n', u'angle_impact_p',\n",
       "       u'background_impact_n', u'background_impact_p', u'chin_gnathion_x',\n",
       "       u'chin_gnathion_y', u'chin_left_gonion_x', u'chin_left_gonion_y',\n",
       "       ...\n",
       "       u'sadness', u'sharpness_impact_n', u'sharpness_impact_p', u'smile',\n",
       "       u'surprise', u'upper_lip_x', u'upper_lip_y', u'width', u'x0', u'y0'],\n",
       "      dtype='object', length=105)"
      ]
     },
     "execution_count": 51,
     "metadata": {},
     "output_type": "execute_result"
    }
   ],
   "source": [
    "meta.columns"
   ]
  },
  {
   "cell_type": "code",
   "execution_count": 52,
   "metadata": {
    "collapsed": false
   },
   "outputs": [
    {
     "data": {
      "text/plain": [
       "ID\n",
       "1        0.000000\n",
       "2        0.000000\n",
       "3        0.000000\n",
       "4        0.000000\n",
       "5        0.000000\n",
       "6        0.000000\n",
       "7        0.000000\n",
       "8        0.000000\n",
       "9        0.000000\n",
       "10       0.000000\n",
       "11       0.000000\n",
       "12       0.000000\n",
       "13       0.000000\n",
       "14       0.000000\n",
       "15       0.000000\n",
       "16       0.000000\n",
       "17       0.000000\n",
       "18       0.000000\n",
       "19       0.000000\n",
       "20       0.333333\n",
       "21       0.000000\n",
       "22       0.000000\n",
       "23       0.000000\n",
       "24       0.000000\n",
       "25       0.000000\n",
       "26       0.000000\n",
       "27       0.000000\n",
       "28       0.000000\n",
       "29       0.333333\n",
       "30       0.000000\n",
       "           ...   \n",
       "9971     0.000000\n",
       "9972     0.000000\n",
       "9973     0.000000\n",
       "9974     0.166667\n",
       "9975     0.000000\n",
       "9976     0.000000\n",
       "9977     0.000000\n",
       "9978     0.000000\n",
       "9979     0.500000\n",
       "9980     0.166667\n",
       "9981     0.000000\n",
       "9982     0.000000\n",
       "9983     0.166667\n",
       "9984     0.166667\n",
       "9985     0.000000\n",
       "9986     0.000000\n",
       "9987     0.000000\n",
       "9988     0.000000\n",
       "9989     0.000000\n",
       "9990     0.571429\n",
       "9991     0.000000\n",
       "9992     0.000000\n",
       "9993     0.000000\n",
       "9994     0.000000\n",
       "9995     0.000000\n",
       "9996     0.166667\n",
       "9997     0.000000\n",
       "9998     0.000000\n",
       "9999     0.000000\n",
       "10000    0.333333\n",
       "Name: sadness, dtype: float64"
      ]
     },
     "execution_count": 52,
     "metadata": {},
     "output_type": "execute_result"
    }
   ],
   "source": [
    "meta['sadness']"
   ]
  },
  {
   "cell_type": "code",
   "execution_count": null,
   "metadata": {
    "collapsed": true
   },
   "outputs": [],
   "source": []
  }
 ],
 "metadata": {
  "anaconda-cloud": {},
  "kernelspec": {
   "display_name": "Python [Root]",
   "language": "python",
   "name": "Python [Root]"
  },
  "language_info": {
   "codemirror_mode": {
    "name": "ipython",
    "version": 2
   },
   "file_extension": ".py",
   "mimetype": "text/x-python",
   "name": "python",
   "nbconvert_exporter": "python",
   "pygments_lexer": "ipython2",
   "version": "2.7.12"
  }
 },
 "nbformat": 4,
 "nbformat_minor": 1
}
