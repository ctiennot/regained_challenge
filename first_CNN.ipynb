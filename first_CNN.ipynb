{
 "cells": [
  {
   "cell_type": "markdown",
   "metadata": {},
   "source": [
    "In this notebook I try to fit a small CNN to the extracted faces to see if it is easy to get about the same score than with boosting on the meta features"
   ]
  },
  {
   "cell_type": "markdown",
   "metadata": {},
   "source": [
    "# Importing the faces"
   ]
  },
  {
   "cell_type": "code",
   "execution_count": 1,
   "metadata": {
    "collapsed": false
   },
   "outputs": [],
   "source": [
    "import tensorflow as tf\n",
    "import time\n",
    "%matplotlib inline"
   ]
  },
  {
   "cell_type": "code",
   "execution_count": 2,
   "metadata": {
    "collapsed": true
   },
   "outputs": [],
   "source": [
    "from scipy.ndimage import imread"
   ]
  },
  {
   "cell_type": "code",
   "execution_count": 3,
   "metadata": {
    "collapsed": false
   },
   "outputs": [],
   "source": [
    "from PIL import Image\n",
    "#img = Image.open(image_file)\n",
    "#image_data = np.array(img).astype(float)"
   ]
  },
  {
   "cell_type": "code",
   "execution_count": 4,
   "metadata": {
    "collapsed": false
   },
   "outputs": [
    {
     "name": "stderr",
     "output_type": "stream",
     "text": [
      "/usr/local/lib/python2.7/dist-packages/sklearn/cross_validation.py:44: DeprecationWarning: This module was deprecated in version 0.18 in favor of the model_selection module into which all the refactored classes and functions are moved. Also note that the interface of the new CV iterators are different from that of this module. This module will be removed in 0.20.\n",
      "  \"This module will be removed in 0.20.\", DeprecationWarning)\n"
     ]
    },
    {
     "name": "stdout",
     "output_type": "stream",
     "text": [
      "0\n",
      "1000\n",
      "2000\n",
      "3000\n",
      "4000\n",
      "5000\n",
      "6000\n",
      "7000\n",
      "8000\n",
      "9000\n",
      "10000\n",
      "11000\n",
      "12000\n"
     ]
    }
   ],
   "source": [
    "import os\n",
    "import matplotlib.pyplot as plt\n",
    "from scipy import misc\n",
    "import pandas as pd\n",
    "import numpy as np\n",
    "from sklearn.ensemble import RandomForestRegressor\n",
    "from sklearn.cross_validation import train_test_split\n",
    "from spearman import score_function\n",
    "import time\n",
    "\n",
    "all_faces = {int(number[::-1][4:][::-1]): \"data/extracted_faces/\" + number\n",
    "                  for number in os.listdir(\"data/extracted_faces\")\n",
    "                  if number[::-1][:4] == 'gpj.'}\n",
    "\n",
    "bw = np.array(Image.open(all_faces[1])).astype(float)\n",
    "bw = bw.mean(axis=2)/255.  # black and white normalized\n",
    "bw = bw.reshape((-1,))  # 10k features\n",
    "\n",
    "X = np.zeros((len(all_faces), 10**4))\n",
    "\n",
    "for i in range(13000):\n",
    "    if i % 1000==0:\n",
    "        print i\n",
    "    im = np.array(Image.open(all_faces[i+1])).astype(float)\n",
    "    if len(im.shape)>2:\n",
    "        X[i,:] =  im.mean(axis=2).reshape((-1,))/255.\n",
    "    else:\n",
    "        X[i,:] = im.reshape((-1,)) / 255.\n",
    "\n",
    "\n",
    "# read .csv using pandas\n",
    "y = pd.read_csv(\"data/training_outputs.csv\", delimiter=\";\").set_index(\"ID\")\n",
    "y = y.as_matrix()\n",
    "\n",
    "# store id's\n",
    "X_ids = range(1, 13001)\n",
    "\n",
    "# cut into test, train\n",
    "X_train, X_test, y_train, y_test = train_test_split(X[0:10000], y, test_size=0.05, random_state=42)"
   ]
  },
  {
   "cell_type": "code",
   "execution_count": 5,
   "metadata": {
    "collapsed": false
   },
   "outputs": [],
   "source": [
    "X_train = np.array(X_train, dtype=np.float32)\n",
    "X_test = np.array(X_test, dtype=np.float32)"
   ]
  },
  {
   "cell_type": "markdown",
   "metadata": {},
   "source": [
    "### Real tuto"
   ]
  },
  {
   "cell_type": "code",
   "execution_count": 6,
   "metadata": {
    "collapsed": true
   },
   "outputs": [],
   "source": [
    "import tensorflow as tf\n",
    "tf.reset_default_graph()\n",
    "config = tf.ConfigProto()\n",
    "# config.device_count = {'GPU': 0}\n",
    "config.gpu_options.allow_growth = True\n",
    "config.log_device_placement=True\n",
    "sess = tf.InteractiveSession(config=config)\n",
    "#sess = tf.InteractiveSession()"
   ]
  },
  {
   "cell_type": "markdown",
   "metadata": {},
   "source": [
    "# Multilayer convnet"
   ]
  },
  {
   "cell_type": "code",
   "execution_count": 7,
   "metadata": {
    "collapsed": true
   },
   "outputs": [],
   "source": [
    "x = tf.placeholder(tf.float32, shape=[None, 10000])\n",
    "y_ = tf.placeholder(tf.float32, shape=[None, 1])"
   ]
  },
  {
   "cell_type": "code",
   "execution_count": 8,
   "metadata": {
    "collapsed": true
   },
   "outputs": [],
   "source": [
    "def weight_variable(shape):\n",
    "  initial = tf.truncated_normal(shape, stddev=0.1)\n",
    "  return tf.Variable(initial)\n",
    "\n",
    "def bias_variable(shape):\n",
    "  initial = tf.constant(0.1, shape=shape)\n",
    "  return tf.Variable(initial)"
   ]
  },
  {
   "cell_type": "code",
   "execution_count": 9,
   "metadata": {
    "collapsed": true
   },
   "outputs": [],
   "source": [
    "def conv2d(x, W):\n",
    "  return tf.nn.conv2d(x, W, strides=[1, 1, 1, 1], padding='SAME')\n",
    "\n",
    "def max_pool_2x2(x):\n",
    "  return tf.nn.max_pool(x, ksize=[1, 2, 2, 1],\n",
    "                        strides=[1, 2, 2, 1], padding='SAME')"
   ]
  },
  {
   "cell_type": "code",
   "execution_count": 10,
   "metadata": {
    "collapsed": true
   },
   "outputs": [],
   "source": [
    "W_conv1 = weight_variable([5, 5, 1, 32])\n",
    "b_conv1 = bias_variable([32])"
   ]
  },
  {
   "cell_type": "code",
   "execution_count": 11,
   "metadata": {
    "collapsed": false
   },
   "outputs": [],
   "source": [
    "x_image = tf.reshape(x, [-1,100,100,1])"
   ]
  },
  {
   "cell_type": "code",
   "execution_count": 12,
   "metadata": {
    "collapsed": false
   },
   "outputs": [],
   "source": [
    "h_conv1 = tf.nn.relu(conv2d(x_image, W_conv1) + b_conv1)\n",
    "h_pool1 = max_pool_2x2(h_conv1)"
   ]
  },
  {
   "cell_type": "code",
   "execution_count": 13,
   "metadata": {
    "collapsed": false
   },
   "outputs": [],
   "source": [
    "W_conv2 = weight_variable([5, 5, 32, 64])\n",
    "b_conv2 = bias_variable([64])\n",
    "\n",
    "h_conv2 = tf.nn.relu(conv2d(h_pool1, W_conv2) + b_conv2)\n",
    "h_pool2 = max_pool_2x2(h_conv2)"
   ]
  },
  {
   "cell_type": "code",
   "execution_count": 14,
   "metadata": {
    "collapsed": false
   },
   "outputs": [],
   "source": [
    "W_fc1 = weight_variable([25 * 25 * 64, 1024])\n",
    "b_fc1 = bias_variable([1024])\n",
    "\n",
    "h_pool2_flat = tf.reshape(h_pool2, [-1, 25*25*64])\n",
    "h_fc1 = tf.nn.relu(tf.matmul(h_pool2_flat, W_fc1) + b_fc1)"
   ]
  },
  {
   "cell_type": "code",
   "execution_count": 15,
   "metadata": {
    "collapsed": true
   },
   "outputs": [],
   "source": [
    "keep_prob = tf.placeholder(tf.float32)\n",
    "h_fc1_drop = tf.nn.dropout(h_fc1, keep_prob)"
   ]
  },
  {
   "cell_type": "code",
   "execution_count": 16,
   "metadata": {
    "collapsed": true
   },
   "outputs": [],
   "source": [
    "W_fc2 = weight_variable([1024, 1])\n",
    "b_fc2 = bias_variable([1])\n",
    "\n",
    "y_conv = tf.matmul(h_fc1_drop, W_fc2) + b_fc2"
   ]
  },
  {
   "cell_type": "code",
   "execution_count": 17,
   "metadata": {
    "collapsed": true
   },
   "outputs": [],
   "source": [
    "mse = tf.reduce_mean((y_conv - y_)**2)\n",
    "train_step = tf.train.AdamOptimizer(1e-4).minimize(mse)"
   ]
  },
  {
   "cell_type": "code",
   "execution_count": 18,
   "metadata": {
    "collapsed": false
   },
   "outputs": [],
   "source": [
    "sess.run(tf.global_variables_initializer())"
   ]
  },
  {
   "cell_type": "code",
   "execution_count": 19,
   "metadata": {
    "collapsed": false
   },
   "outputs": [
    {
     "data": {
      "text/plain": [
       "744.60876"
      ]
     },
     "execution_count": 19,
     "metadata": {},
     "output_type": "execute_result"
    }
   ],
   "source": [
    "mse.eval(feed_dict={\n",
    "        x:X_train[0:500,:],y_: y_train[0:500,:], keep_prob: 1.0})"
   ]
  },
  {
   "cell_type": "code",
   "execution_count": 20,
   "metadata": {
    "collapsed": false
   },
   "outputs": [
    {
     "data": {
      "text/plain": [
       "numpy.float32"
      ]
     },
     "execution_count": 20,
     "metadata": {},
     "output_type": "execute_result"
    }
   ],
   "source": [
    "type(X_train[0,0])"
   ]
  },
  {
   "cell_type": "code",
   "execution_count": 21,
   "metadata": {
    "collapsed": false
   },
   "outputs": [
    {
     "name": "stdout",
     "output_type": "stream",
     "text": [
      "iteration 0, training mse 16.6147 test mse 16.3898 test spearman 0.326033\n",
      "iteration 1, training mse 14.3459 test mse 15.286 test spearman 0.391381\n",
      "iteration 2, training mse 14.3847 test mse 15.3581 test spearman 0.418178\n",
      "iteration 3, training mse 14.4962 test mse 15.1404 test spearman 0.416715\n",
      "iteration 4, training mse 13.5595 test mse 14.7254 test spearman 0.419291\n",
      "iteration 5, training mse 13.419 test mse 14.8611 test spearman 0.424282\n",
      "iteration 6, training mse 12.9489 test mse 14.492 test spearman 0.432117\n",
      "iteration 7, training mse 13.3761 test mse 14.9488 test spearman 0.421605\n",
      "iteration 8, training mse 12.7133 test mse 14.3472 test spearman 0.429322\n",
      "iteration 9, training mse 12.383 test mse 14.4634 test spearman 0.440675\n",
      "iteration 10, training mse 11.9837 test mse 14.3948 test spearman 0.455497\n",
      "iteration 11, training mse 11.9337 test mse 14.4951 test spearman 0.45926\n",
      "iteration 12, training mse 11.2412 test mse 14.2527 test spearman 0.464904\n",
      "iteration 13, training mse 11.102 test mse 14.0211 test spearman 0.476681\n",
      "iteration 14, training mse 10.5045 test mse 14.338 test spearman 0.47152\n",
      "iteration 15, training mse 9.76532 test mse 13.984 test spearman 0.47039\n",
      "iteration 16, training mse 9.4184 test mse 14.0495 test spearman 0.475454\n",
      "iteration 17, training mse 9.26965 test mse 14.0435 test spearman 0.476347\n",
      "iteration 18, training mse 8.71268 test mse 14.0418 test spearman 0.457808\n",
      "iteration 19, training mse 9.089 test mse 14.2892 test spearman 0.474957\n",
      "iteration 20, training mse 8.5135 test mse 14.4013 test spearman 0.492659\n",
      "iteration 21, training mse 8.00789 test mse 14.2532 test spearman 0.475507\n",
      "iteration 22, training mse 7.84105 test mse 14.242 test spearman 0.48544\n",
      "iteration 23, training mse 7.66038 test mse 14.7536 test spearman 0.484901\n",
      "iteration 24, training mse 7.38977 test mse 14.3425 test spearman 0.501252\n",
      "iteration 25, training mse 6.34254 test mse 13.7116 test spearman 0.499635\n",
      "iteration 26, training mse 5.77209 test mse 14.0949 test spearman 0.500302\n",
      "iteration 27, training mse 6.02893 test mse 14.5398 test spearman 0.495093\n",
      "iteration 28, training mse 5.41081 test mse 14.2186 test spearman 0.495797\n",
      "iteration 29, training mse 5.38942 test mse 14.7234 test spearman 0.494071\n",
      "iteration 30, training mse 6.53214 test mse 17.0967 test spearman 0.497289\n",
      "iteration 31, training mse 4.92466 test mse 14.5586 test spearman 0.501322\n",
      "iteration 32, training mse 4.52157 test mse 14.965 test spearman 0.507971\n",
      "iteration 33, training mse 4.93283 test mse 16.1869 test spearman 0.504376\n",
      "iteration 34, training mse 4.62276 test mse 15.9464 test spearman 0.498187\n",
      "iteration 35, training mse 5.3268 test mse 16.8048 test spearman 0.497061\n",
      "iteration 36, training mse 3.59597 test mse 14.2536 test spearman 0.500132\n",
      "iteration 37, training mse 4.33552 test mse 13.7594 test spearman 0.497009\n",
      "iteration 38, training mse 6.19936 test mse 15.7698 test spearman 0.49878\n",
      "iteration 39, training mse 5.1624 test mse 15.4346 test spearman 0.487365\n",
      "iteration 40, training mse 6.55942 test mse 17.1077 test spearman 0.491857\n",
      "iteration 41, training mse 4.86361 test mse 16.2914 test spearman 0.485139\n",
      "iteration 42, training mse 4.71939 test mse 16.2255 test spearman 0.482474\n",
      "iteration 43, training mse 3.33413 test mse 14.6018 test spearman 0.488971\n",
      "iteration 44, training mse 2.41281 test mse 14.083 test spearman 0.488072\n",
      "iteration 45, training mse 2.25247 test mse 13.6518 test spearman 0.488408\n",
      "iteration 46, training mse 2.07828 test mse 13.6159 test spearman 0.483636\n",
      "iteration 47, training mse 2.30567 test mse 13.9271 test spearman 0.488899\n",
      "iteration 48, training mse 2.39189 test mse 14.49 test spearman 0.492544\n",
      "iteration 49, training mse 2.37302 test mse 14.8548 test spearman 0.489833\n",
      "\n",
      "Running time:  406.379172087\n"
     ]
    }
   ],
   "source": [
    "starts = time.time()\n",
    "for global_it in range(50):\n",
    "    for i in range(95):\n",
    "        batch = (X_train[(i*100):((i+1)*100),:], y_train[(i*100):((i+1)*100),:])\n",
    "        train_step.run(feed_dict={x: batch[0], y_: batch[1], keep_prob: 0.5})\n",
    "    train_mse = sess.run(mse, feed_dict={x:batch[0], y_: batch[1], keep_prob: 1.0})\n",
    "    print \"iteration %d, training mse %g\"%(global_it, train_mse),\n",
    "    print \"test mse %g\"%mse.eval(feed_dict={x: X_test, y_: y_test, keep_prob: 1.0}),\n",
    "    \n",
    "    # compute spearman\n",
    "    preds = y_conv.eval(feed_dict={x: X_test, keep_prob: 1.0})\n",
    "    current_spearman = score_function(y_pred=np.round(preds), y_true=y_test[0:500,:])\n",
    "    print \"test spearman %g\"%current_spearman\n",
    "    \n",
    "print \"\\nRunning time: \", time.time() - starts"
   ]
  },
  {
   "cell_type": "code",
   "execution_count": 22,
   "metadata": {
    "collapsed": false
   },
   "outputs": [
    {
     "name": "stdout",
     "output_type": "stream",
     "text": [
      "test mse 14.8548\n"
     ]
    }
   ],
   "source": [
    "print(\"test mse %g\"%mse.eval(feed_dict={\n",
    "    x: X_test[0:500], y_: y_test[0:500], keep_prob: 1.0}))"
   ]
  },
  {
   "cell_type": "code",
   "execution_count": 23,
   "metadata": {
    "collapsed": false
   },
   "outputs": [],
   "source": [
    "preds = np.array([[]]).reshape((-1,1))\n",
    "for i in range(30):\n",
    "    preds = np.vstack((\n",
    "        preds, \n",
    "        y_conv.eval(feed_dict={x: X_test[(i*100):((i+1)*100),:], y_: y_test[(i*100):((i+1)*100),:], keep_prob: 1.0})\n",
    "    ))"
   ]
  },
  {
   "cell_type": "code",
   "execution_count": 24,
   "metadata": {
    "collapsed": false
   },
   "outputs": [
    {
     "data": {
      "text/plain": [
       "[<matplotlib.lines.Line2D at 0x7f41bb92f9d0>]"
      ]
     },
     "execution_count": 24,
     "metadata": {},
     "output_type": "execute_result"
    },
    {
     "data": {
      "image/png": "[encoded data removed]",
      "text/plain": [
       "<matplotlib.figure.Figure at 0x7f41bb92f510>"
      ]
     },
     "metadata": {},
     "output_type": "display_data"
    }
   ],
   "source": [
    "plt.plot(preds, y_test, \"o\")\n",
    "plt.plot([0, 25], [0, 25])"
   ]
  },
  {
   "cell_type": "code",
   "execution_count": 25,
   "metadata": {
    "collapsed": true
   },
   "outputs": [],
   "source": [
    "from spearman import score_function"
   ]
  },
  {
   "cell_type": "code",
   "execution_count": 26,
   "metadata": {
    "collapsed": false
   },
   "outputs": [
    {
     "data": {
      "text/plain": [
       "0.48983326575821112"
      ]
     },
     "execution_count": 26,
     "metadata": {},
     "output_type": "execute_result"
    }
   ],
   "source": [
    "score_function(y_pred=np.round(preds), y_true=y_test)"
   ]
  },
  {
   "cell_type": "code",
   "execution_count": null,
   "metadata": {
    "collapsed": true
   },
   "outputs": [],
   "source": []
  }
 ],
 "metadata": {
  "anaconda-cloud": {},
  "kernelspec": {
   "display_name": "Python 2",
   "language": "python",
   "name": "python2"
  },
  "language_info": {
   "codemirror_mode": {
    "name": "ipython",
    "version": 2
   },
   "file_extension": ".py",
   "mimetype": "text/x-python",
   "name": "python",
   "nbconvert_exporter": "python",
   "pygments_lexer": "ipython2",
   "version": "2.7.6"
  }
 },
 "nbformat": 4,
 "nbformat_minor": 1
}
